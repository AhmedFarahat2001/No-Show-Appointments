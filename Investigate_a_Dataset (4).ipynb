{
 "cells": [
  {
   "cell_type": "markdown",
   "metadata": {},
   "source": [
    "> **Tip**: Welcome to the Investigate a Dataset project! You will find tips in quoted sections like this to help organize your approach to your investigation. Once you complete this project, remove these **Tip** sections from your report before submission. First things first, you might want to double-click this Markdown cell and change the title so that it reflects your dataset and investigation.\n",
    "\n",
    "# Project: No-Show Appointments dataset analysis\n",
    "\n",
    "## Table of Contents\n",
    "<ul>\n",
    "<li><a href=\"#intro\">Introduction</a></li>\n",
    "<li><a href=\"#wrangling\">Data Wrangling</a></li>\n",
    "<li><a href=\"#eda\">Exploratory Data Analysis</a></li>\n",
    "<li><a href=\"#conclusions\">Conclusions</a></li>\n",
    "</ul>"
   ]
  },
  {
   "cell_type": "markdown",
   "metadata": {},
   "source": [
    "<a id='intro'></a>\n",
    "## Introduction\n",
    "\n",
    "### Dataset Description \n",
    "\n",
    "> **Tip**: In this section of the report, provide a brief introduction to the dataset you've selected/downloaded for analysis. Read through the description available on the homepage-links present [here](https://docs.google.com/document/d/e/2PACX-1vTlVmknRRnfy_4eTrjw5hYGaiQim5ctr9naaRd4V9du2B5bxpd8FEH3KtDgp8qVekw7Cj1GLk1IXdZi/pub?embedded=True). List all column names in each table, and their significance. In case of multiple tables, describe the relationship between tables. \n",
    "\n",
    "\n",
    "### This dataset collects information from 100k medical appointments in Brazil and is focused on the question of whether or not patients show upfor their appointment.\n",
    "\n",
    "### The no-show appointments dataset contains 14 columns which are:<a href=\"#The-no-show-appointments-dataset-contains-14-columns-which-are:\" class=\"anchor-link\">¶</a>\n",
    "\n",
    "-   ### PatientId\n",
    "\n",
    "      \n",
    "    This is an identification of a patient\n",
    "\n",
    "-   ### AppointmentId\n",
    "\n",
    "      \n",
    "    This is an identification of an appointment\n",
    "\n",
    "-   ### Gender\n",
    "\n",
    "      \n",
    "    This column contains two value F and M which means Female and Male\n",
    "\n",
    "-   ### ScheduledDay\n",
    "\n",
    "      \n",
    "    The day of the actuall appointment, when they have to visit the\n",
    "    doctor\n",
    "\n",
    "-   ### AppointmentDay\n",
    "\n",
    "      \n",
    "    The day someone called or registered the appointment, this is before\n",
    "    appointment of course\n",
    "\n",
    "-   ### Age\n",
    "\n",
    "      \n",
    "    The age of a patient\n",
    "\n",
    "-   ### Neighbourhood\n",
    "\n",
    "      \n",
    "    Where the appointment takes place\n",
    "\n",
    "-   ### Scholarship\n",
    "\n",
    "      \n",
    "    True of False\n",
    "\n",
    "-   ### Hipertension\n",
    "\n",
    "      \n",
    "    True (The patient have hypertension) or False (The patient don't\n",
    "    have hypertension)\n",
    "\n",
    "-   ### Diabetes\n",
    "\n",
    "      \n",
    "    True (The patient have diabetes) or False (The patient don't have\n",
    "    diabetes)\n",
    "\n",
    "-   ### Alcoholism\n",
    "\n",
    "      \n",
    "    True (The patient have alcholism) or False (The patient don't have\n",
    "    alcholism)\n",
    "\n",
    "-   ### Handcap\n",
    "\n",
    "      \n",
    "    True (The patient have handicap) or False (The patient don't have\n",
    "    handicap)\n",
    "\n",
    "-   ### SMS\\_received\n",
    "\n",
    "      \n",
    "    True (The patient have received SMS for the appointment) or False\n",
    "    (The patient didn't received SMS for the appointment)\n",
    "\n",
    "-   ### No-show\n",
    "\n",
    "      \n",
    "    True (The patient haven't shown in the appointment) or False (The\n",
    "    patient have shown in the appointment)\n",
    "\n",
    "### Question(s) for Analysis :<a href=\"#Question(s)-for-Analysis\" class=\"anchor-link\">¶</a>\n",
    "<ul>\n",
    "<li> What factors are important for us to know in order to predict if a patient will show up for their scheduled appointment?<a href=\"#What-factors-are-important-for-us-to-know-in-order-to-predict-if-a-patient-will-show-up-for-their-scheduled-appointment?\" class=\"anchor-link\">¶</a></li>\n",
    "\n",
    "<li> Which gender show more to the appointment?<a href=\"#Which-gender-show-more-to-the-appointment?\" class=\"anchor-link\">¶</a></li>\n",
    "\n",
    "<li>Does it matter to know if the patient show to the appointment by receiving his SMS or not?<a href=\"#Does-it-matter-to-know-if-the-patient-show-to-the-appointment-by-receiving-his-SMS-or-not?\" class=\"anchor-link\">¶</a></li>\n",
    "</ul>"
   ]
  },
  {
   "cell_type": "code",
   "execution_count": 17,
   "metadata": {},
   "outputs": [],
   "source": [
    "# Use this cell to set up import statements for all of the packages that you\n",
    "#   plan to use.\n",
    "import pandas as pd\n",
    "import numpy as np\n",
    "import matplotlib.pyplot as plt\n",
    "import seaborn as sns\n",
    "# Remember to include a 'magic word' so that your visualizations are plotted\n",
    "#   inline with the notebook. See this page for more:\n",
    "#   http://ipython.readthedocs.io/en/stable/interactive/magics.html\n",
    "%matplotlib inline"
   ]
  },
  {
   "cell_type": "code",
   "execution_count": 2,
   "metadata": {},
   "outputs": [
    {
     "name": "stdout",
     "output_type": "stream",
     "text": [
      "Collecting pandas==0.25.0\n",
      "\u001b[?25l  Downloading https://files.pythonhosted.org/packages/1d/9a/7eb9952f4b4d73fbd75ad1d5d6112f407e695957444cb695cbb3cdab918a/pandas-0.25.0-cp36-cp36m-manylinux1_x86_64.whl (10.5MB)\n",
      "\u001b[K    100% |████████████████████████████████| 10.5MB 2.8MB/s eta 0:00:01   68% |██████████████████████          | 7.2MB 26.9MB/s eta 0:00:01\n",
      "\u001b[?25hRequirement already satisfied, skipping upgrade: pytz>=2017.2 in /opt/conda/lib/python3.6/site-packages (from pandas==0.25.0) (2017.3)\n",
      "Requirement already satisfied, skipping upgrade: python-dateutil>=2.6.1 in /opt/conda/lib/python3.6/site-packages (from pandas==0.25.0) (2.6.1)\n",
      "Collecting numpy>=1.13.3 (from pandas==0.25.0)\n",
      "\u001b[?25l  Downloading https://files.pythonhosted.org/packages/45/b2/6c7545bb7a38754d63048c7696804a0d947328125d81bf12beaa692c3ae3/numpy-1.19.5-cp36-cp36m-manylinux1_x86_64.whl (13.4MB)\n",
      "\u001b[K    100% |████████████████████████████████| 13.4MB 2.4MB/s eta 0:00:01   31% |██████████                      | 4.2MB 26.6MB/s eta 0:00:01    68% |██████████████████████          | 9.2MB 23.7MB/s eta 0:00:01    78% |█████████████████████████       | 10.5MB 26.5MB/s eta 0:00:01\n",
      "\u001b[?25hRequirement already satisfied, skipping upgrade: six>=1.5 in /opt/conda/lib/python3.6/site-packages (from python-dateutil>=2.6.1->pandas==0.25.0) (1.11.0)\n",
      "\u001b[31mtensorflow 1.3.0 requires tensorflow-tensorboard<0.2.0,>=0.1.0, which is not installed.\u001b[0m\n",
      "Installing collected packages: numpy, pandas\n",
      "  Found existing installation: numpy 1.12.1\n",
      "    Uninstalling numpy-1.12.1:\n",
      "      Successfully uninstalled numpy-1.12.1\n",
      "  Found existing installation: pandas 0.23.3\n",
      "    Uninstalling pandas-0.23.3:\n",
      "      Successfully uninstalled pandas-0.23.3\n",
      "Successfully installed numpy-1.19.5 pandas-0.25.0\n"
     ]
    }
   ],
   "source": [
    "# Upgrade pandas to use dataframe.explode() function. \n",
    "!pip install --upgrade pandas==0.25.0"
   ]
  },
  {
   "cell_type": "markdown",
   "metadata": {},
   "source": [
    "<a id='wrangling'></a>\n",
    "## Data Wrangling\n",
    "\n",
    "> **Tip**: In this section of the report, you will load in the data, check for cleanliness, and then trim and clean your dataset for analysis. Make sure that you **document your data cleaning steps in mark-down cells precisely and justify your cleaning decisions.**\n",
    "\n",
    "\n",
    "### General Properties\n",
    "> **Tip**: You should _not_ perform too many operations in each cell. Create cells freely to explore your data. One option that you can take with this project is to do a lot of explorations in an initial notebook. These don't have to be organized, but make sure you use enough comments to understand the purpose of each code cell. Then, after you're done with your analysis, create a duplicate notebook where you will trim the excess and organize your steps so that you have a flowing, cohesive report."
   ]
  },
  {
   "cell_type": "code",
   "execution_count": 18,
   "metadata": {},
   "outputs": [
    {
     "ename": "TypeError",
     "evalue": "__init__() got an unexpected keyword argument 'max_rows'",
     "output_type": "error",
     "traceback": [
      "\u001b[0;31m---------------------------------------------------------------------------\u001b[0m",
      "\u001b[0;31mTypeError\u001b[0m                                 Traceback (most recent call last)",
      "\u001b[0;32m/opt/conda/lib/python3.6/site-packages/IPython/core/formatters.py\u001b[0m in \u001b[0;36m__call__\u001b[0;34m(self, obj)\u001b[0m\n\u001b[1;32m    343\u001b[0m             \u001b[0mmethod\u001b[0m \u001b[0;34m=\u001b[0m \u001b[0mget_real_method\u001b[0m\u001b[0;34m(\u001b[0m\u001b[0mobj\u001b[0m\u001b[0;34m,\u001b[0m \u001b[0mself\u001b[0m\u001b[0;34m.\u001b[0m\u001b[0mprint_method\u001b[0m\u001b[0;34m)\u001b[0m\u001b[0;34m\u001b[0m\u001b[0m\n\u001b[1;32m    344\u001b[0m             \u001b[0;32mif\u001b[0m \u001b[0mmethod\u001b[0m \u001b[0;32mis\u001b[0m \u001b[0;32mnot\u001b[0m \u001b[0;32mNone\u001b[0m\u001b[0;34m:\u001b[0m\u001b[0;34m\u001b[0m\u001b[0m\n\u001b[0;32m--> 345\u001b[0;31m                 \u001b[0;32mreturn\u001b[0m \u001b[0mmethod\u001b[0m\u001b[0;34m(\u001b[0m\u001b[0;34m)\u001b[0m\u001b[0;34m\u001b[0m\u001b[0m\n\u001b[0m\u001b[1;32m    346\u001b[0m             \u001b[0;32mreturn\u001b[0m \u001b[0;32mNone\u001b[0m\u001b[0;34m\u001b[0m\u001b[0m\n\u001b[1;32m    347\u001b[0m         \u001b[0;32melse\u001b[0m\u001b[0;34m:\u001b[0m\u001b[0;34m\u001b[0m\u001b[0m\n",
      "\u001b[0;32m/opt/conda/lib/python3.6/site-packages/pandas/core/frame.py\u001b[0m in \u001b[0;36m_repr_html_\u001b[0;34m(self)\u001b[0m\n\u001b[1;32m    694\u001b[0m     \u001b[0;34m@\u001b[0m\u001b[0mSubstitution\u001b[0m\u001b[0;34m(\u001b[0m\u001b[0mshared_params\u001b[0m\u001b[0;34m=\u001b[0m\u001b[0mfmt\u001b[0m\u001b[0;34m.\u001b[0m\u001b[0mcommon_docstring\u001b[0m\u001b[0;34m,\u001b[0m \u001b[0mreturns\u001b[0m\u001b[0;34m=\u001b[0m\u001b[0mfmt\u001b[0m\u001b[0;34m.\u001b[0m\u001b[0mreturn_docstring\u001b[0m\u001b[0;34m)\u001b[0m\u001b[0;34m\u001b[0m\u001b[0m\n\u001b[1;32m    695\u001b[0m     def to_string(\n\u001b[0;32m--> 696\u001b[0;31m         \u001b[0mself\u001b[0m\u001b[0;34m,\u001b[0m\u001b[0;34m\u001b[0m\u001b[0m\n\u001b[0m\u001b[1;32m    697\u001b[0m         \u001b[0mbuf\u001b[0m\u001b[0;34m=\u001b[0m\u001b[0;32mNone\u001b[0m\u001b[0;34m,\u001b[0m\u001b[0;34m\u001b[0m\u001b[0m\n\u001b[1;32m    698\u001b[0m         \u001b[0mcolumns\u001b[0m\u001b[0;34m=\u001b[0m\u001b[0;32mNone\u001b[0m\u001b[0;34m,\u001b[0m\u001b[0;34m\u001b[0m\u001b[0m\n",
      "\u001b[0;32m/opt/conda/lib/python3.6/site-packages/pandas/core/frame.py\u001b[0m in \u001b[0;36mto_html\u001b[0;34m(self, buf, columns, col_space, header, index, na_rep, formatters, float_format, sparsify, index_names, justify, bold_rows, classes, escape, max_rows, max_cols, show_dimensions, notebook, decimal, border, table_id)\u001b[0m\n\u001b[1;32m   2035\u001b[0m             \u001b[0mDefault\u001b[0m \u001b[0;32mis\u001b[0m \u001b[0mlatin\u001b[0m\u001b[0;34m-\u001b[0m\u001b[0;36m1.\u001b[0m \u001b[0mUnicode\u001b[0m \u001b[0;32mis\u001b[0m \u001b[0;32mnot\u001b[0m \u001b[0msupported\u001b[0m\u001b[0;34m.\u001b[0m\u001b[0;34m\u001b[0m\u001b[0m\n\u001b[1;32m   2036\u001b[0m         \u001b[0mbyteorder\u001b[0m \u001b[0;34m:\u001b[0m \u001b[0mstr\u001b[0m\u001b[0;34m\u001b[0m\u001b[0m\n\u001b[0;32m-> 2037\u001b[0;31m             \u001b[0mCan\u001b[0m \u001b[0mbe\u001b[0m \u001b[0;34m\">\"\u001b[0m\u001b[0;34m,\u001b[0m \u001b[0;34m\"<\"\u001b[0m\u001b[0;34m,\u001b[0m \u001b[0;34m\"little\"\u001b[0m\u001b[0;34m,\u001b[0m \u001b[0;32mor\u001b[0m \u001b[0;34m\"big\"\u001b[0m\u001b[0;34m.\u001b[0m \u001b[0mdefault\u001b[0m \u001b[0;32mis\u001b[0m\u001b[0;31m \u001b[0m\u001b[0;31m`\u001b[0m\u001b[0msys\u001b[0m\u001b[0;34m.\u001b[0m\u001b[0mbyteorder\u001b[0m\u001b[0;31m`\u001b[0m\u001b[0;34m.\u001b[0m\u001b[0;34m\u001b[0m\u001b[0m\n\u001b[0m\u001b[1;32m   2038\u001b[0m         \u001b[0mtime_stamp\u001b[0m \u001b[0;34m:\u001b[0m \u001b[0mdatetime\u001b[0m\u001b[0;34m\u001b[0m\u001b[0m\n\u001b[1;32m   2039\u001b[0m             \u001b[0mA\u001b[0m \u001b[0mdatetime\u001b[0m \u001b[0mto\u001b[0m \u001b[0muse\u001b[0m \u001b[0;32mas\u001b[0m \u001b[0mfile\u001b[0m \u001b[0mcreation\u001b[0m \u001b[0mdate\u001b[0m\u001b[0;34m.\u001b[0m  \u001b[0mDefault\u001b[0m \u001b[0;32mis\u001b[0m \u001b[0mthe\u001b[0m \u001b[0mcurrent\u001b[0m\u001b[0;34m\u001b[0m\u001b[0m\n",
      "\u001b[0;32m/opt/conda/lib/python3.6/site-packages/pandas/io/formats/format.py\u001b[0m in \u001b[0;36mto_html\u001b[0;34m(self, classes, notebook, border)\u001b[0m\n\u001b[1;32m    751\u001b[0m         \u001b[0;32melse\u001b[0m\u001b[0;34m:\u001b[0m\u001b[0;34m\u001b[0m\u001b[0m\n\u001b[1;32m    752\u001b[0m             \u001b[0mnrows\u001b[0m \u001b[0;34m=\u001b[0m \u001b[0mlen\u001b[0m\u001b[0;34m(\u001b[0m\u001b[0mself\u001b[0m\u001b[0;34m.\u001b[0m\u001b[0mframe\u001b[0m\u001b[0;34m)\u001b[0m\u001b[0;34m\u001b[0m\u001b[0m\n\u001b[0;32m--> 753\u001b[0;31m \u001b[0;34m\u001b[0m\u001b[0m\n\u001b[0m\u001b[1;32m    754\u001b[0m         \u001b[0mstr_lst\u001b[0m \u001b[0;34m=\u001b[0m \u001b[0;34m[\u001b[0m\u001b[0;34m]\u001b[0m\u001b[0;34m\u001b[0m\u001b[0m\n\u001b[1;32m    755\u001b[0m         \u001b[0mst\u001b[0m \u001b[0;34m=\u001b[0m \u001b[0;36m0\u001b[0m\u001b[0;34m\u001b[0m\u001b[0m\n",
      "\u001b[0;31mTypeError\u001b[0m: __init__() got an unexpected keyword argument 'max_rows'"
     ]
    },
    {
     "data": {
      "text/plain": [
       "        PatientId  AppointmentID Gender          ScheduledDay  \\\n",
       "0  29872499824296        5642903      F  2016-04-29T18:38:08Z   \n",
       "1 558997776694438        5642503      M  2016-04-29T16:08:27Z   \n",
       "2   4262962299951        5642549      F  2016-04-29T16:19:04Z   \n",
       "3    867951213174        5642828      F  2016-04-29T17:29:31Z   \n",
       "4   8841186448183        5642494      F  2016-04-29T16:07:23Z   \n",
       "\n",
       "         AppointmentDay  Age      Neighbourhood  Scholarship  Hipertension  \\\n",
       "0  2016-04-29T00:00:00Z   62    JARDIM DA PENHA            0             1   \n",
       "1  2016-04-29T00:00:00Z   56    JARDIM DA PENHA            0             0   \n",
       "2  2016-04-29T00:00:00Z   62      MATA DA PRAIA            0             0   \n",
       "3  2016-04-29T00:00:00Z    8  PONTAL DE CAMBURI            0             0   \n",
       "4  2016-04-29T00:00:00Z   56    JARDIM DA PENHA            0             1   \n",
       "\n",
       "   Diabetes  Alcoholism  Handcap  SMS_received No-show  \n",
       "0         0           0        0             0      No  \n",
       "1         0           0        0             0      No  \n",
       "2         0           0        0             0      No  \n",
       "3         0           0        0             0      No  \n",
       "4         1           0        0             0      No  "
      ]
     },
     "execution_count": 18,
     "metadata": {},
     "output_type": "execute_result"
    }
   ],
   "source": [
    "# Load your data and print out a few lines. Perform operations to inspect data\n",
    "#   types and look for instances of missing or possibly errant data.\n",
    "# making the patient id show the id without the e+1\n",
    "pd.options.display.float_format = '{:.0f}'.format\n",
    "df = pd.read_csv('Database_No_show_appointments/noshowappointments-kagglev2-may-2016.csv')\n",
    "df.head()"
   ]
  },
  {
   "cell_type": "code",
   "execution_count": 132,
   "metadata": {},
   "outputs": [
    {
     "name": "stdout",
     "output_type": "stream",
     "text": [
      "<class 'pandas.core.frame.DataFrame'>\n",
      "RangeIndex: 110527 entries, 0 to 110526\n",
      "Data columns (total 14 columns):\n",
      "PatientId         110527 non-null float64\n",
      "AppointmentID     110527 non-null int64\n",
      "Gender            110527 non-null object\n",
      "ScheduledDay      110527 non-null object\n",
      "AppointmentDay    110527 non-null object\n",
      "Age               110527 non-null int64\n",
      "Neighbourhood     110527 non-null object\n",
      "Scholarship       110527 non-null int64\n",
      "Hipertension      110527 non-null int64\n",
      "Diabetes          110527 non-null int64\n",
      "Alcoholism        110527 non-null int64\n",
      "Handcap           110527 non-null int64\n",
      "SMS_received      110527 non-null int64\n",
      "No-show           110527 non-null object\n",
      "dtypes: float64(1), int64(8), object(5)\n",
      "memory usage: 11.8+ MB\n"
     ]
    }
   ],
   "source": [
    "#getting information about this dataset\n",
    "df.info()"
   ]
  },
  {
   "cell_type": "code",
   "execution_count": 19,
   "metadata": {
    "scrolled": true
   },
   "outputs": [
    {
     "data": {
      "text/plain": [
       "False    110527\n",
       "dtype: int64"
      ]
     },
     "execution_count": 19,
     "metadata": {},
     "output_type": "execute_result"
    }
   ],
   "source": [
    "#checking duplicates in this dataset\n",
    "df.duplicated().value_counts()"
   ]
  },
  {
   "cell_type": "markdown",
   "metadata": {},
   "source": [
    "There is no duplicates in this dataset"
   ]
  },
  {
   "cell_type": "code",
   "execution_count": 20,
   "metadata": {},
   "outputs": [
    {
     "data": {
      "text/plain": [
       "PatientId         0\n",
       "AppointmentID     0\n",
       "Gender            0\n",
       "ScheduledDay      0\n",
       "AppointmentDay    0\n",
       "Age               0\n",
       "Neighbourhood     0\n",
       "Scholarship       0\n",
       "Hipertension      0\n",
       "Diabetes          0\n",
       "Alcoholism        0\n",
       "Handcap           0\n",
       "SMS_received      0\n",
       "No-show           0\n",
       "dtype: int64"
      ]
     },
     "execution_count": 20,
     "metadata": {},
     "output_type": "execute_result"
    }
   ],
   "source": [
    "#checking any missing values in this dataset\n",
    "df.isna().sum()"
   ]
  },
  {
   "cell_type": "markdown",
   "metadata": {},
   "source": [
    "There is no missing values in this dataset"
   ]
  },
  {
   "cell_type": "code",
   "execution_count": 21,
   "metadata": {},
   "outputs": [
    {
     "data": {
      "text/plain": [
       "62299"
      ]
     },
     "execution_count": 21,
     "metadata": {},
     "output_type": "execute_result"
    }
   ],
   "source": [
    "#identfying the no. of unique values in 'PatientId' column\n",
    "df['PatientId'].nunique()"
   ]
  },
  {
   "cell_type": "markdown",
   "metadata": {},
   "source": [
    "There is 62229 out of 110527 values which are 'PatientId' unique values"
   ]
  },
  {
   "cell_type": "code",
   "execution_count": 22,
   "metadata": {},
   "outputs": [
    {
     "data": {
      "text/plain": [
       "110527"
      ]
     },
     "execution_count": 22,
     "metadata": {},
     "output_type": "execute_result"
    }
   ],
   "source": [
    "#identfying the no. of unique values in 'AppointmentID' column\n",
    "df['AppointmentID'].nunique()"
   ]
  },
  {
   "cell_type": "markdown",
   "metadata": {},
   "source": [
    "all 'AppointmentID' values are unique"
   ]
  },
  {
   "cell_type": "code",
   "execution_count": 23,
   "metadata": {},
   "outputs": [
    {
     "data": {
      "text/plain": [
       "(110527, 14)"
      ]
     },
     "execution_count": 23,
     "metadata": {},
     "output_type": "execute_result"
    }
   ],
   "source": [
    "#identfying the no. of rows and columns in this dataset\n",
    "df.shape"
   ]
  },
  {
   "cell_type": "markdown",
   "metadata": {},
   "source": [
    "In this dataset there are 110527 rows and 14 columns"
   ]
  },
  {
   "cell_type": "code",
   "execution_count": 24,
   "metadata": {},
   "outputs": [
    {
     "ename": "TypeError",
     "evalue": "__init__() got an unexpected keyword argument 'max_rows'",
     "output_type": "error",
     "traceback": [
      "\u001b[0;31m---------------------------------------------------------------------------\u001b[0m",
      "\u001b[0;31mTypeError\u001b[0m                                 Traceback (most recent call last)",
      "\u001b[0;32m/opt/conda/lib/python3.6/site-packages/IPython/core/formatters.py\u001b[0m in \u001b[0;36m__call__\u001b[0;34m(self, obj)\u001b[0m\n\u001b[1;32m    343\u001b[0m             \u001b[0mmethod\u001b[0m \u001b[0;34m=\u001b[0m \u001b[0mget_real_method\u001b[0m\u001b[0;34m(\u001b[0m\u001b[0mobj\u001b[0m\u001b[0;34m,\u001b[0m \u001b[0mself\u001b[0m\u001b[0;34m.\u001b[0m\u001b[0mprint_method\u001b[0m\u001b[0;34m)\u001b[0m\u001b[0;34m\u001b[0m\u001b[0m\n\u001b[1;32m    344\u001b[0m             \u001b[0;32mif\u001b[0m \u001b[0mmethod\u001b[0m \u001b[0;32mis\u001b[0m \u001b[0;32mnot\u001b[0m \u001b[0;32mNone\u001b[0m\u001b[0;34m:\u001b[0m\u001b[0;34m\u001b[0m\u001b[0m\n\u001b[0;32m--> 345\u001b[0;31m                 \u001b[0;32mreturn\u001b[0m \u001b[0mmethod\u001b[0m\u001b[0;34m(\u001b[0m\u001b[0;34m)\u001b[0m\u001b[0;34m\u001b[0m\u001b[0m\n\u001b[0m\u001b[1;32m    346\u001b[0m             \u001b[0;32mreturn\u001b[0m \u001b[0;32mNone\u001b[0m\u001b[0;34m\u001b[0m\u001b[0m\n\u001b[1;32m    347\u001b[0m         \u001b[0;32melse\u001b[0m\u001b[0;34m:\u001b[0m\u001b[0;34m\u001b[0m\u001b[0m\n",
      "\u001b[0;32m/opt/conda/lib/python3.6/site-packages/pandas/core/frame.py\u001b[0m in \u001b[0;36m_repr_html_\u001b[0;34m(self)\u001b[0m\n\u001b[1;32m    694\u001b[0m     \u001b[0;34m@\u001b[0m\u001b[0mSubstitution\u001b[0m\u001b[0;34m(\u001b[0m\u001b[0mshared_params\u001b[0m\u001b[0;34m=\u001b[0m\u001b[0mfmt\u001b[0m\u001b[0;34m.\u001b[0m\u001b[0mcommon_docstring\u001b[0m\u001b[0;34m,\u001b[0m \u001b[0mreturns\u001b[0m\u001b[0;34m=\u001b[0m\u001b[0mfmt\u001b[0m\u001b[0;34m.\u001b[0m\u001b[0mreturn_docstring\u001b[0m\u001b[0;34m)\u001b[0m\u001b[0;34m\u001b[0m\u001b[0m\n\u001b[1;32m    695\u001b[0m     def to_string(\n\u001b[0;32m--> 696\u001b[0;31m         \u001b[0mself\u001b[0m\u001b[0;34m,\u001b[0m\u001b[0;34m\u001b[0m\u001b[0m\n\u001b[0m\u001b[1;32m    697\u001b[0m         \u001b[0mbuf\u001b[0m\u001b[0;34m=\u001b[0m\u001b[0;32mNone\u001b[0m\u001b[0;34m,\u001b[0m\u001b[0;34m\u001b[0m\u001b[0m\n\u001b[1;32m    698\u001b[0m         \u001b[0mcolumns\u001b[0m\u001b[0;34m=\u001b[0m\u001b[0;32mNone\u001b[0m\u001b[0;34m,\u001b[0m\u001b[0;34m\u001b[0m\u001b[0m\n",
      "\u001b[0;32m/opt/conda/lib/python3.6/site-packages/pandas/core/frame.py\u001b[0m in \u001b[0;36mto_html\u001b[0;34m(self, buf, columns, col_space, header, index, na_rep, formatters, float_format, sparsify, index_names, justify, bold_rows, classes, escape, max_rows, max_cols, show_dimensions, notebook, decimal, border, table_id)\u001b[0m\n\u001b[1;32m   2035\u001b[0m             \u001b[0mDefault\u001b[0m \u001b[0;32mis\u001b[0m \u001b[0mlatin\u001b[0m\u001b[0;34m-\u001b[0m\u001b[0;36m1.\u001b[0m \u001b[0mUnicode\u001b[0m \u001b[0;32mis\u001b[0m \u001b[0;32mnot\u001b[0m \u001b[0msupported\u001b[0m\u001b[0;34m.\u001b[0m\u001b[0;34m\u001b[0m\u001b[0m\n\u001b[1;32m   2036\u001b[0m         \u001b[0mbyteorder\u001b[0m \u001b[0;34m:\u001b[0m \u001b[0mstr\u001b[0m\u001b[0;34m\u001b[0m\u001b[0m\n\u001b[0;32m-> 2037\u001b[0;31m             \u001b[0mCan\u001b[0m \u001b[0mbe\u001b[0m \u001b[0;34m\">\"\u001b[0m\u001b[0;34m,\u001b[0m \u001b[0;34m\"<\"\u001b[0m\u001b[0;34m,\u001b[0m \u001b[0;34m\"little\"\u001b[0m\u001b[0;34m,\u001b[0m \u001b[0;32mor\u001b[0m \u001b[0;34m\"big\"\u001b[0m\u001b[0;34m.\u001b[0m \u001b[0mdefault\u001b[0m \u001b[0;32mis\u001b[0m\u001b[0;31m \u001b[0m\u001b[0;31m`\u001b[0m\u001b[0msys\u001b[0m\u001b[0;34m.\u001b[0m\u001b[0mbyteorder\u001b[0m\u001b[0;31m`\u001b[0m\u001b[0;34m.\u001b[0m\u001b[0;34m\u001b[0m\u001b[0m\n\u001b[0m\u001b[1;32m   2038\u001b[0m         \u001b[0mtime_stamp\u001b[0m \u001b[0;34m:\u001b[0m \u001b[0mdatetime\u001b[0m\u001b[0;34m\u001b[0m\u001b[0m\n\u001b[1;32m   2039\u001b[0m             \u001b[0mA\u001b[0m \u001b[0mdatetime\u001b[0m \u001b[0mto\u001b[0m \u001b[0muse\u001b[0m \u001b[0;32mas\u001b[0m \u001b[0mfile\u001b[0m \u001b[0mcreation\u001b[0m \u001b[0mdate\u001b[0m\u001b[0;34m.\u001b[0m  \u001b[0mDefault\u001b[0m \u001b[0;32mis\u001b[0m \u001b[0mthe\u001b[0m \u001b[0mcurrent\u001b[0m\u001b[0;34m\u001b[0m\u001b[0m\n",
      "\u001b[0;32m/opt/conda/lib/python3.6/site-packages/pandas/io/formats/format.py\u001b[0m in \u001b[0;36mto_html\u001b[0;34m(self, classes, notebook, border)\u001b[0m\n\u001b[1;32m    751\u001b[0m         \u001b[0;32melse\u001b[0m\u001b[0;34m:\u001b[0m\u001b[0;34m\u001b[0m\u001b[0m\n\u001b[1;32m    752\u001b[0m             \u001b[0mnrows\u001b[0m \u001b[0;34m=\u001b[0m \u001b[0mlen\u001b[0m\u001b[0;34m(\u001b[0m\u001b[0mself\u001b[0m\u001b[0;34m.\u001b[0m\u001b[0mframe\u001b[0m\u001b[0;34m)\u001b[0m\u001b[0;34m\u001b[0m\u001b[0m\n\u001b[0;32m--> 753\u001b[0;31m \u001b[0;34m\u001b[0m\u001b[0m\n\u001b[0m\u001b[1;32m    754\u001b[0m         \u001b[0mstr_lst\u001b[0m \u001b[0;34m=\u001b[0m \u001b[0;34m[\u001b[0m\u001b[0;34m]\u001b[0m\u001b[0;34m\u001b[0m\u001b[0m\n\u001b[1;32m    755\u001b[0m         \u001b[0mst\u001b[0m \u001b[0;34m=\u001b[0m \u001b[0;36m0\u001b[0m\u001b[0;34m\u001b[0m\u001b[0m\n",
      "\u001b[0;31mTypeError\u001b[0m: __init__() got an unexpected keyword argument 'max_rows'"
     ]
    },
    {
     "data": {
      "text/plain": [
       "            PatientId  AppointmentID    Age  Scholarship  Hipertension  \\\n",
       "count          110527         110527 110527       110527        110527   \n",
       "mean  147496265710394        5675305     37            0             0   \n",
       "std   256094920291739          71296     23            0             0   \n",
       "min             39218        5030230     -1            0             0   \n",
       "25%     4172614444192        5640286     18            0             0   \n",
       "50%    31731838713978        5680573     37            0             0   \n",
       "75%    94391720898175        5725524     55            0             0   \n",
       "max   999981631772427        5790484    115            1             1   \n",
       "\n",
       "       Diabetes  Alcoholism  Handcap  SMS_received  \n",
       "count    110527      110527   110527        110527  \n",
       "mean          0           0        0             0  \n",
       "std           0           0        0             0  \n",
       "min           0           0        0             0  \n",
       "25%           0           0        0             0  \n",
       "50%           0           0        0             0  \n",
       "75%           0           0        0             1  \n",
       "max           1           1        4             1  "
      ]
     },
     "execution_count": 24,
     "metadata": {},
     "output_type": "execute_result"
    }
   ],
   "source": [
    "#description of this dataset\n",
    "df.describe()"
   ]
  },
  {
   "cell_type": "markdown",
   "metadata": {},
   "source": [
    "From this description, we discovered that in the 'Age' column. \n",
    "\n",
    "The max is 115\n",
    "\n",
    "The min is -1 (which is wrong and will be fixed in the data cleaning phase) \n",
    "\n",
    "And the mean of ages is 37"
   ]
  },
  {
   "cell_type": "code",
   "execution_count": 25,
   "metadata": {},
   "outputs": [
    {
     "ename": "TypeError",
     "evalue": "__init__() got an unexpected keyword argument 'max_rows'",
     "output_type": "error",
     "traceback": [
      "\u001b[0;31m---------------------------------------------------------------------------\u001b[0m",
      "\u001b[0;31mTypeError\u001b[0m                                 Traceback (most recent call last)",
      "\u001b[0;32m/opt/conda/lib/python3.6/site-packages/IPython/core/formatters.py\u001b[0m in \u001b[0;36m__call__\u001b[0;34m(self, obj)\u001b[0m\n\u001b[1;32m    343\u001b[0m             \u001b[0mmethod\u001b[0m \u001b[0;34m=\u001b[0m \u001b[0mget_real_method\u001b[0m\u001b[0;34m(\u001b[0m\u001b[0mobj\u001b[0m\u001b[0;34m,\u001b[0m \u001b[0mself\u001b[0m\u001b[0;34m.\u001b[0m\u001b[0mprint_method\u001b[0m\u001b[0;34m)\u001b[0m\u001b[0;34m\u001b[0m\u001b[0m\n\u001b[1;32m    344\u001b[0m             \u001b[0;32mif\u001b[0m \u001b[0mmethod\u001b[0m \u001b[0;32mis\u001b[0m \u001b[0;32mnot\u001b[0m \u001b[0;32mNone\u001b[0m\u001b[0;34m:\u001b[0m\u001b[0;34m\u001b[0m\u001b[0m\n\u001b[0;32m--> 345\u001b[0;31m                 \u001b[0;32mreturn\u001b[0m \u001b[0mmethod\u001b[0m\u001b[0;34m(\u001b[0m\u001b[0;34m)\u001b[0m\u001b[0;34m\u001b[0m\u001b[0m\n\u001b[0m\u001b[1;32m    346\u001b[0m             \u001b[0;32mreturn\u001b[0m \u001b[0;32mNone\u001b[0m\u001b[0;34m\u001b[0m\u001b[0m\n\u001b[1;32m    347\u001b[0m         \u001b[0;32melse\u001b[0m\u001b[0;34m:\u001b[0m\u001b[0;34m\u001b[0m\u001b[0m\n",
      "\u001b[0;32m/opt/conda/lib/python3.6/site-packages/pandas/core/frame.py\u001b[0m in \u001b[0;36m_repr_html_\u001b[0;34m(self)\u001b[0m\n\u001b[1;32m    694\u001b[0m     \u001b[0;34m@\u001b[0m\u001b[0mSubstitution\u001b[0m\u001b[0;34m(\u001b[0m\u001b[0mshared_params\u001b[0m\u001b[0;34m=\u001b[0m\u001b[0mfmt\u001b[0m\u001b[0;34m.\u001b[0m\u001b[0mcommon_docstring\u001b[0m\u001b[0;34m,\u001b[0m \u001b[0mreturns\u001b[0m\u001b[0;34m=\u001b[0m\u001b[0mfmt\u001b[0m\u001b[0;34m.\u001b[0m\u001b[0mreturn_docstring\u001b[0m\u001b[0;34m)\u001b[0m\u001b[0;34m\u001b[0m\u001b[0m\n\u001b[1;32m    695\u001b[0m     def to_string(\n\u001b[0;32m--> 696\u001b[0;31m         \u001b[0mself\u001b[0m\u001b[0;34m,\u001b[0m\u001b[0;34m\u001b[0m\u001b[0m\n\u001b[0m\u001b[1;32m    697\u001b[0m         \u001b[0mbuf\u001b[0m\u001b[0;34m=\u001b[0m\u001b[0;32mNone\u001b[0m\u001b[0;34m,\u001b[0m\u001b[0;34m\u001b[0m\u001b[0m\n\u001b[1;32m    698\u001b[0m         \u001b[0mcolumns\u001b[0m\u001b[0;34m=\u001b[0m\u001b[0;32mNone\u001b[0m\u001b[0;34m,\u001b[0m\u001b[0;34m\u001b[0m\u001b[0m\n",
      "\u001b[0;32m/opt/conda/lib/python3.6/site-packages/pandas/core/frame.py\u001b[0m in \u001b[0;36mto_html\u001b[0;34m(self, buf, columns, col_space, header, index, na_rep, formatters, float_format, sparsify, index_names, justify, bold_rows, classes, escape, max_rows, max_cols, show_dimensions, notebook, decimal, border, table_id)\u001b[0m\n\u001b[1;32m   2035\u001b[0m             \u001b[0mDefault\u001b[0m \u001b[0;32mis\u001b[0m \u001b[0mlatin\u001b[0m\u001b[0;34m-\u001b[0m\u001b[0;36m1.\u001b[0m \u001b[0mUnicode\u001b[0m \u001b[0;32mis\u001b[0m \u001b[0;32mnot\u001b[0m \u001b[0msupported\u001b[0m\u001b[0;34m.\u001b[0m\u001b[0;34m\u001b[0m\u001b[0m\n\u001b[1;32m   2036\u001b[0m         \u001b[0mbyteorder\u001b[0m \u001b[0;34m:\u001b[0m \u001b[0mstr\u001b[0m\u001b[0;34m\u001b[0m\u001b[0m\n\u001b[0;32m-> 2037\u001b[0;31m             \u001b[0mCan\u001b[0m \u001b[0mbe\u001b[0m \u001b[0;34m\">\"\u001b[0m\u001b[0;34m,\u001b[0m \u001b[0;34m\"<\"\u001b[0m\u001b[0;34m,\u001b[0m \u001b[0;34m\"little\"\u001b[0m\u001b[0;34m,\u001b[0m \u001b[0;32mor\u001b[0m \u001b[0;34m\"big\"\u001b[0m\u001b[0;34m.\u001b[0m \u001b[0mdefault\u001b[0m \u001b[0;32mis\u001b[0m\u001b[0;31m \u001b[0m\u001b[0;31m`\u001b[0m\u001b[0msys\u001b[0m\u001b[0;34m.\u001b[0m\u001b[0mbyteorder\u001b[0m\u001b[0;31m`\u001b[0m\u001b[0;34m.\u001b[0m\u001b[0;34m\u001b[0m\u001b[0m\n\u001b[0m\u001b[1;32m   2038\u001b[0m         \u001b[0mtime_stamp\u001b[0m \u001b[0;34m:\u001b[0m \u001b[0mdatetime\u001b[0m\u001b[0;34m\u001b[0m\u001b[0m\n\u001b[1;32m   2039\u001b[0m             \u001b[0mA\u001b[0m \u001b[0mdatetime\u001b[0m \u001b[0mto\u001b[0m \u001b[0muse\u001b[0m \u001b[0;32mas\u001b[0m \u001b[0mfile\u001b[0m \u001b[0mcreation\u001b[0m \u001b[0mdate\u001b[0m\u001b[0;34m.\u001b[0m  \u001b[0mDefault\u001b[0m \u001b[0;32mis\u001b[0m \u001b[0mthe\u001b[0m \u001b[0mcurrent\u001b[0m\u001b[0;34m\u001b[0m\u001b[0m\n",
      "\u001b[0;32m/opt/conda/lib/python3.6/site-packages/pandas/io/formats/format.py\u001b[0m in \u001b[0;36mto_html\u001b[0;34m(self, classes, notebook, border)\u001b[0m\n\u001b[1;32m    751\u001b[0m         \u001b[0;32melse\u001b[0m\u001b[0;34m:\u001b[0m\u001b[0;34m\u001b[0m\u001b[0m\n\u001b[1;32m    752\u001b[0m             \u001b[0mnrows\u001b[0m \u001b[0;34m=\u001b[0m \u001b[0mlen\u001b[0m\u001b[0;34m(\u001b[0m\u001b[0mself\u001b[0m\u001b[0;34m.\u001b[0m\u001b[0mframe\u001b[0m\u001b[0;34m)\u001b[0m\u001b[0;34m\u001b[0m\u001b[0m\n\u001b[0;32m--> 753\u001b[0;31m \u001b[0;34m\u001b[0m\u001b[0m\n\u001b[0m\u001b[1;32m    754\u001b[0m         \u001b[0mstr_lst\u001b[0m \u001b[0;34m=\u001b[0m \u001b[0;34m[\u001b[0m\u001b[0;34m]\u001b[0m\u001b[0;34m\u001b[0m\u001b[0m\n\u001b[1;32m    755\u001b[0m         \u001b[0mst\u001b[0m \u001b[0;34m=\u001b[0m \u001b[0;36m0\u001b[0m\u001b[0;34m\u001b[0m\u001b[0m\n",
      "\u001b[0;31mTypeError\u001b[0m: __init__() got an unexpected keyword argument 'max_rows'"
     ]
    },
    {
     "data": {
      "text/plain": [
       "            PatientId  AppointmentID Gender          ScheduledDay  \\\n",
       "99832 465943158731293        5775010      F  2016-06-06T08:58:13Z   \n",
       "\n",
       "             AppointmentDay  Age Neighbourhood  Scholarship  Hipertension  \\\n",
       "99832  2016-06-06T00:00:00Z   -1         ROMÃO            0             0   \n",
       "\n",
       "       Diabetes  Alcoholism  Handcap  SMS_received No-show  \n",
       "99832         0           0        0             0      No  "
      ]
     },
     "execution_count": 25,
     "metadata": {},
     "output_type": "execute_result"
    }
   ],
   "source": [
    "#identfying the error in the 'Age' column\n",
    "df[df['Age']== -1]"
   ]
  },
  {
   "cell_type": "code",
   "execution_count": 26,
   "metadata": {},
   "outputs": [
    {
     "ename": "TypeError",
     "evalue": "__init__() got an unexpected keyword argument 'max_rows'",
     "output_type": "error",
     "traceback": [
      "\u001b[0;31m---------------------------------------------------------------------------\u001b[0m",
      "\u001b[0;31mTypeError\u001b[0m                                 Traceback (most recent call last)",
      "\u001b[0;32m/opt/conda/lib/python3.6/site-packages/IPython/core/formatters.py\u001b[0m in \u001b[0;36m__call__\u001b[0;34m(self, obj)\u001b[0m\n\u001b[1;32m    343\u001b[0m             \u001b[0mmethod\u001b[0m \u001b[0;34m=\u001b[0m \u001b[0mget_real_method\u001b[0m\u001b[0;34m(\u001b[0m\u001b[0mobj\u001b[0m\u001b[0;34m,\u001b[0m \u001b[0mself\u001b[0m\u001b[0;34m.\u001b[0m\u001b[0mprint_method\u001b[0m\u001b[0;34m)\u001b[0m\u001b[0;34m\u001b[0m\u001b[0m\n\u001b[1;32m    344\u001b[0m             \u001b[0;32mif\u001b[0m \u001b[0mmethod\u001b[0m \u001b[0;32mis\u001b[0m \u001b[0;32mnot\u001b[0m \u001b[0;32mNone\u001b[0m\u001b[0;34m:\u001b[0m\u001b[0;34m\u001b[0m\u001b[0m\n\u001b[0;32m--> 345\u001b[0;31m                 \u001b[0;32mreturn\u001b[0m \u001b[0mmethod\u001b[0m\u001b[0;34m(\u001b[0m\u001b[0;34m)\u001b[0m\u001b[0;34m\u001b[0m\u001b[0m\n\u001b[0m\u001b[1;32m    346\u001b[0m             \u001b[0;32mreturn\u001b[0m \u001b[0;32mNone\u001b[0m\u001b[0;34m\u001b[0m\u001b[0m\n\u001b[1;32m    347\u001b[0m         \u001b[0;32melse\u001b[0m\u001b[0;34m:\u001b[0m\u001b[0;34m\u001b[0m\u001b[0m\n",
      "\u001b[0;32m/opt/conda/lib/python3.6/site-packages/pandas/core/frame.py\u001b[0m in \u001b[0;36m_repr_html_\u001b[0;34m(self)\u001b[0m\n\u001b[1;32m    694\u001b[0m     \u001b[0;34m@\u001b[0m\u001b[0mSubstitution\u001b[0m\u001b[0;34m(\u001b[0m\u001b[0mshared_params\u001b[0m\u001b[0;34m=\u001b[0m\u001b[0mfmt\u001b[0m\u001b[0;34m.\u001b[0m\u001b[0mcommon_docstring\u001b[0m\u001b[0;34m,\u001b[0m \u001b[0mreturns\u001b[0m\u001b[0;34m=\u001b[0m\u001b[0mfmt\u001b[0m\u001b[0;34m.\u001b[0m\u001b[0mreturn_docstring\u001b[0m\u001b[0;34m)\u001b[0m\u001b[0;34m\u001b[0m\u001b[0m\n\u001b[1;32m    695\u001b[0m     def to_string(\n\u001b[0;32m--> 696\u001b[0;31m         \u001b[0mself\u001b[0m\u001b[0;34m,\u001b[0m\u001b[0;34m\u001b[0m\u001b[0m\n\u001b[0m\u001b[1;32m    697\u001b[0m         \u001b[0mbuf\u001b[0m\u001b[0;34m=\u001b[0m\u001b[0;32mNone\u001b[0m\u001b[0;34m,\u001b[0m\u001b[0;34m\u001b[0m\u001b[0m\n\u001b[1;32m    698\u001b[0m         \u001b[0mcolumns\u001b[0m\u001b[0;34m=\u001b[0m\u001b[0;32mNone\u001b[0m\u001b[0;34m,\u001b[0m\u001b[0;34m\u001b[0m\u001b[0m\n",
      "\u001b[0;32m/opt/conda/lib/python3.6/site-packages/pandas/core/frame.py\u001b[0m in \u001b[0;36mto_html\u001b[0;34m(self, buf, columns, col_space, header, index, na_rep, formatters, float_format, sparsify, index_names, justify, bold_rows, classes, escape, max_rows, max_cols, show_dimensions, notebook, decimal, border, table_id)\u001b[0m\n\u001b[1;32m   2035\u001b[0m             \u001b[0mDefault\u001b[0m \u001b[0;32mis\u001b[0m \u001b[0mlatin\u001b[0m\u001b[0;34m-\u001b[0m\u001b[0;36m1.\u001b[0m \u001b[0mUnicode\u001b[0m \u001b[0;32mis\u001b[0m \u001b[0;32mnot\u001b[0m \u001b[0msupported\u001b[0m\u001b[0;34m.\u001b[0m\u001b[0;34m\u001b[0m\u001b[0m\n\u001b[1;32m   2036\u001b[0m         \u001b[0mbyteorder\u001b[0m \u001b[0;34m:\u001b[0m \u001b[0mstr\u001b[0m\u001b[0;34m\u001b[0m\u001b[0m\n\u001b[0;32m-> 2037\u001b[0;31m             \u001b[0mCan\u001b[0m \u001b[0mbe\u001b[0m \u001b[0;34m\">\"\u001b[0m\u001b[0;34m,\u001b[0m \u001b[0;34m\"<\"\u001b[0m\u001b[0;34m,\u001b[0m \u001b[0;34m\"little\"\u001b[0m\u001b[0;34m,\u001b[0m \u001b[0;32mor\u001b[0m \u001b[0;34m\"big\"\u001b[0m\u001b[0;34m.\u001b[0m \u001b[0mdefault\u001b[0m \u001b[0;32mis\u001b[0m\u001b[0;31m \u001b[0m\u001b[0;31m`\u001b[0m\u001b[0msys\u001b[0m\u001b[0;34m.\u001b[0m\u001b[0mbyteorder\u001b[0m\u001b[0;31m`\u001b[0m\u001b[0;34m.\u001b[0m\u001b[0;34m\u001b[0m\u001b[0m\n\u001b[0m\u001b[1;32m   2038\u001b[0m         \u001b[0mtime_stamp\u001b[0m \u001b[0;34m:\u001b[0m \u001b[0mdatetime\u001b[0m\u001b[0;34m\u001b[0m\u001b[0m\n\u001b[1;32m   2039\u001b[0m             \u001b[0mA\u001b[0m \u001b[0mdatetime\u001b[0m \u001b[0mto\u001b[0m \u001b[0muse\u001b[0m \u001b[0;32mas\u001b[0m \u001b[0mfile\u001b[0m \u001b[0mcreation\u001b[0m \u001b[0mdate\u001b[0m\u001b[0;34m.\u001b[0m  \u001b[0mDefault\u001b[0m \u001b[0;32mis\u001b[0m \u001b[0mthe\u001b[0m \u001b[0mcurrent\u001b[0m\u001b[0;34m\u001b[0m\u001b[0m\n",
      "\u001b[0;32m/opt/conda/lib/python3.6/site-packages/pandas/io/formats/format.py\u001b[0m in \u001b[0;36mto_html\u001b[0;34m(self, classes, notebook, border)\u001b[0m\n\u001b[1;32m    751\u001b[0m         \u001b[0;32melse\u001b[0m\u001b[0;34m:\u001b[0m\u001b[0;34m\u001b[0m\u001b[0m\n\u001b[1;32m    752\u001b[0m             \u001b[0mnrows\u001b[0m \u001b[0;34m=\u001b[0m \u001b[0mlen\u001b[0m\u001b[0;34m(\u001b[0m\u001b[0mself\u001b[0m\u001b[0;34m.\u001b[0m\u001b[0mframe\u001b[0m\u001b[0;34m)\u001b[0m\u001b[0;34m\u001b[0m\u001b[0m\n\u001b[0;32m--> 753\u001b[0;31m \u001b[0;34m\u001b[0m\u001b[0m\n\u001b[0m\u001b[1;32m    754\u001b[0m         \u001b[0mstr_lst\u001b[0m \u001b[0;34m=\u001b[0m \u001b[0;34m[\u001b[0m\u001b[0;34m]\u001b[0m\u001b[0;34m\u001b[0m\u001b[0m\n\u001b[1;32m    755\u001b[0m         \u001b[0mst\u001b[0m \u001b[0;34m=\u001b[0m \u001b[0;36m0\u001b[0m\u001b[0;34m\u001b[0m\u001b[0m\n",
      "\u001b[0;31mTypeError\u001b[0m: __init__() got an unexpected keyword argument 'max_rows'"
     ]
    },
    {
     "data": {
      "text/plain": [
       "            PatientId  AppointmentID Gender          ScheduledDay  \\\n",
       "63912  31963211613981        5700278      F  2016-05-16T09:17:44Z   \n",
       "63915  31963211613981        5700279      F  2016-05-16T09:17:44Z   \n",
       "68127  31963211613981        5562812      F  2016-04-08T14:29:17Z   \n",
       "76284  31963211613981        5744037      F  2016-05-30T09:44:51Z   \n",
       "97666 748234579244724        5717451      F  2016-05-19T07:57:56Z   \n",
       "\n",
       "             AppointmentDay  Age Neighbourhood  Scholarship  Hipertension  \\\n",
       "63912  2016-05-19T00:00:00Z  115    ANDORINHAS            0             0   \n",
       "63915  2016-05-19T00:00:00Z  115    ANDORINHAS            0             0   \n",
       "68127  2016-05-16T00:00:00Z  115    ANDORINHAS            0             0   \n",
       "76284  2016-05-30T00:00:00Z  115    ANDORINHAS            0             0   \n",
       "97666  2016-06-03T00:00:00Z  115      SÃO JOSÉ            0             1   \n",
       "\n",
       "       Diabetes  Alcoholism  Handcap  SMS_received No-show  \n",
       "63912         0           0        1             0     Yes  \n",
       "63915         0           0        1             0     Yes  \n",
       "68127         0           0        1             0     Yes  \n",
       "76284         0           0        1             0      No  \n",
       "97666         0           0        0             1      No  "
      ]
     },
     "execution_count": 26,
     "metadata": {},
     "output_type": "execute_result"
    }
   ],
   "source": [
    "#identifying the patients whose age are 115 years old\n",
    "df[df['Age']== 115]"
   ]
  },
  {
   "cell_type": "markdown",
   "metadata": {},
   "source": [
    "There is 5 patients whose age are 115 years old"
   ]
  },
  {
   "cell_type": "code",
   "execution_count": 27,
   "metadata": {},
   "outputs": [
    {
     "data": {
      "text/plain": [
       "0    99666\n",
       "1    10861\n",
       "Name: Scholarship, dtype: int64"
      ]
     },
     "execution_count": 27,
     "metadata": {},
     "output_type": "execute_result"
    }
   ],
   "source": [
    "#identifying the no. of patients whether they have scholarship or not\n",
    "df['Scholarship'].value_counts()"
   ]
  },
  {
   "cell_type": "markdown",
   "metadata": {},
   "source": [
    "There are 10861 patient who have scholarship and 99666 patient who don't\n",
    "have scholarship"
   ]
  },
  {
   "cell_type": "code",
   "execution_count": 28,
   "metadata": {},
   "outputs": [
    {
     "data": {
      "text/plain": [
       "0    88726\n",
       "1    21801\n",
       "Name: Hipertension, dtype: int64"
      ]
     },
     "execution_count": 28,
     "metadata": {},
     "output_type": "execute_result"
    }
   ],
   "source": [
    "#identifying the no. of patients whether they have hypertension or not\n",
    "df['Hipertension'].value_counts()"
   ]
  },
  {
   "cell_type": "markdown",
   "metadata": {},
   "source": [
    "There are 21801 patient who suffer hypertension and 88726 patient who\n",
    "don't suffer hypertension"
   ]
  },
  {
   "cell_type": "code",
   "execution_count": 29,
   "metadata": {
    "scrolled": true
   },
   "outputs": [
    {
     "data": {
      "text/plain": [
       "0    102584\n",
       "1      7943\n",
       "Name: Diabetes, dtype: int64"
      ]
     },
     "execution_count": 29,
     "metadata": {},
     "output_type": "execute_result"
    }
   ],
   "source": [
    "#identifying the no. of patients whether they have diabetes or not\n",
    "df['Diabetes'].value_counts()"
   ]
  },
  {
   "cell_type": "markdown",
   "metadata": {},
   "source": [
    "There are 7943 patient who suffer diabetes and 102584 patient who don't\n",
    "suffer diabetes"
   ]
  },
  {
   "cell_type": "code",
   "execution_count": 30,
   "metadata": {},
   "outputs": [
    {
     "data": {
      "text/plain": [
       "0    107167\n",
       "1      3360\n",
       "Name: Alcoholism, dtype: int64"
      ]
     },
     "execution_count": 30,
     "metadata": {},
     "output_type": "execute_result"
    }
   ],
   "source": [
    "#identifying the no. of patients whether they have alcoholism or not\n",
    "df['Alcoholism'].value_counts()"
   ]
  },
  {
   "cell_type": "markdown",
   "metadata": {},
   "source": [
    "There are 3360 patient who have alcoholism and 107167 patient who don't\n",
    "have alcoholism\n"
   ]
  },
  {
   "cell_type": "code",
   "execution_count": 31,
   "metadata": {},
   "outputs": [
    {
     "data": {
      "text/plain": [
       "0    108286\n",
       "1      2042\n",
       "2       183\n",
       "3        13\n",
       "4         3\n",
       "Name: Handcap, dtype: int64"
      ]
     },
     "execution_count": 31,
     "metadata": {},
     "output_type": "execute_result"
    }
   ],
   "source": [
    "#identifying the no. of patients who are handicapped or not\n",
    "df['Handcap'].value_counts()"
   ]
  },
  {
   "cell_type": "markdown",
   "metadata": {},
   "source": [
    "There are 5 levels of handicap which are:  \n",
    "\n",
    "-   In level 0, there are 108286 who are not handicapped\n",
    "-   There are 2042 patient who are level 1 handicapped\n",
    "-   There are 183 patient who are level 2 handicapped\n",
    "-   There are 13 patient who are level 3 handicapped\n",
    "-   There are 4 patients who are level 4 handicapped\n"
   ]
  },
  {
   "cell_type": "code",
   "execution_count": 32,
   "metadata": {
    "scrolled": true
   },
   "outputs": [
    {
     "data": {
      "text/plain": [
       "0    75045\n",
       "1    35482\n",
       "Name: SMS_received, dtype: int64"
      ]
     },
     "execution_count": 32,
     "metadata": {},
     "output_type": "execute_result"
    }
   ],
   "source": [
    "#identifying the no. of patients who have received SMS\n",
    "df['SMS_received'].value_counts()"
   ]
  },
  {
   "cell_type": "markdown",
   "metadata": {},
   "source": [
    "There are 75045 patient who didn't receive message and 35482 patient who\n",
    "received"
   ]
  },
  {
   "cell_type": "code",
   "execution_count": 33,
   "metadata": {},
   "outputs": [
    {
     "data": {
      "text/plain": [
       "No     88208\n",
       "Yes    22319\n",
       "Name: No-show, dtype: int64"
      ]
     },
     "execution_count": 33,
     "metadata": {},
     "output_type": "execute_result"
    }
   ],
   "source": [
    "#identifying the no. of patients who showed in their appointment\n",
    "df['No-show'].value_counts()"
   ]
  },
  {
   "cell_type": "markdown",
   "metadata": {},
   "source": [
    "There are 22319 patient who didn't show and 88208 patient who shown in\n",
    "their appointment"
   ]
  },
  {
   "cell_type": "code",
   "execution_count": 34,
   "metadata": {},
   "outputs": [
    {
     "data": {
      "text/plain": [
       "JARDIM CAMBURI                 7717\n",
       "MARIA ORTIZ                    5805\n",
       "RESISTÊNCIA                    4431\n",
       "JARDIM DA PENHA                3877\n",
       "ITARARÉ                        3514\n",
       "CENTRO                         3334\n",
       "TABUAZEIRO                     3132\n",
       "SANTA MARTHA                   3131\n",
       "JESUS DE NAZARETH              2853\n",
       "BONFIM                         2773\n",
       "SANTO ANTÔNIO                  2746\n",
       "SANTO ANDRÉ                    2571\n",
       "CARATOÍRA                      2565\n",
       "JABOUR                         2509\n",
       "SÃO PEDRO                      2448\n",
       "ILHA DO PRÍNCIPE               2266\n",
       "NOVA PALESTINA                 2264\n",
       "ANDORINHAS                     2262\n",
       "DA PENHA                       2217\n",
       "ROMÃO                          2215\n",
       "GURIGICA                       2018\n",
       "SÃO JOSÉ                       1977\n",
       "BELA VISTA                     1907\n",
       "MARUÍPE                        1902\n",
       "FORTE SÃO JOÃO                 1889\n",
       "ILHA DE SANTA MARIA            1885\n",
       "SÃO CRISTÓVÃO                  1836\n",
       "REDENÇÃO                       1553\n",
       "SÃO BENEDITO                   1439\n",
       "JOANA D´ARC                    1427\n",
       "                               ... \n",
       "SANTOS REIS                     547\n",
       "ESTRELINHA                      538\n",
       "SANTA CLARA                     506\n",
       "SOLON BORGES                    469\n",
       "PIEDADE                         452\n",
       "SANTA CECÍLIA                   448\n",
       "SANTA LÚCIA                     438\n",
       "SANTA LUÍZA                     428\n",
       "BARRO VERMELHO                  423\n",
       "DO MOSCOSO                      413\n",
       "MÁRIO CYPRESTE                  371\n",
       "BOA VISTA                       312\n",
       "COMDUSA                         310\n",
       "DE LOURDES                      305\n",
       "ARIOVALDO FAVALESSA             282\n",
       "ANTÔNIO HONÓRIO                 271\n",
       "FRADINHOS                       258\n",
       "ENSEADA DO SUÁ                  235\n",
       "SANTA HELENA                    178\n",
       "HORTO                           175\n",
       "UNIVERSITÁRIO                   152\n",
       "SEGURANÇA DO LAR                145\n",
       "NAZARETH                        135\n",
       "MORADA DE CAMBURI                96\n",
       "PONTAL DE CAMBURI                69\n",
       "ILHA DO BOI                      35\n",
       "ILHA DO FRADE                    10\n",
       "AEROPORTO                         8\n",
       "ILHAS OCEÂNICAS DE TRINDADE       2\n",
       "PARQUE INDUSTRIAL                 1\n",
       "Name: Neighbourhood, Length: 81, dtype: int64"
      ]
     },
     "execution_count": 34,
     "metadata": {},
     "output_type": "execute_result"
    }
   ],
   "source": [
    "#identifying the no. of places of the appointment\n",
    "df['Neighbourhood'].value_counts()"
   ]
  },
  {
   "cell_type": "markdown",
   "metadata": {},
   "source": [
    "There are 81 place for the appointment"
   ]
  },
  {
   "cell_type": "markdown",
   "metadata": {},
   "source": [
    "\n",
    "### Data Cleaning\n",
    "> **Tip**: Make sure that you keep your reader informed on the steps that you are taking in your investigation. Follow every code cell, or every set of related code cells, with a markdown cell to describe to the reader what was found in the preceding cell(s). Try to make it so that the reader can then understand what they will be seeing in the following cell(s).\n",
    " "
   ]
  },
  {
   "cell_type": "code",
   "execution_count": 35,
   "metadata": {
    "scrolled": true
   },
   "outputs": [
    {
     "ename": "TypeError",
     "evalue": "__init__() got an unexpected keyword argument 'max_rows'",
     "output_type": "error",
     "traceback": [
      "\u001b[0;31m---------------------------------------------------------------------------\u001b[0m",
      "\u001b[0;31mTypeError\u001b[0m                                 Traceback (most recent call last)",
      "\u001b[0;32m/opt/conda/lib/python3.6/site-packages/IPython/core/formatters.py\u001b[0m in \u001b[0;36m__call__\u001b[0;34m(self, obj)\u001b[0m\n\u001b[1;32m    343\u001b[0m             \u001b[0mmethod\u001b[0m \u001b[0;34m=\u001b[0m \u001b[0mget_real_method\u001b[0m\u001b[0;34m(\u001b[0m\u001b[0mobj\u001b[0m\u001b[0;34m,\u001b[0m \u001b[0mself\u001b[0m\u001b[0;34m.\u001b[0m\u001b[0mprint_method\u001b[0m\u001b[0;34m)\u001b[0m\u001b[0;34m\u001b[0m\u001b[0m\n\u001b[1;32m    344\u001b[0m             \u001b[0;32mif\u001b[0m \u001b[0mmethod\u001b[0m \u001b[0;32mis\u001b[0m \u001b[0;32mnot\u001b[0m \u001b[0;32mNone\u001b[0m\u001b[0;34m:\u001b[0m\u001b[0;34m\u001b[0m\u001b[0m\n\u001b[0;32m--> 345\u001b[0;31m                 \u001b[0;32mreturn\u001b[0m \u001b[0mmethod\u001b[0m\u001b[0;34m(\u001b[0m\u001b[0;34m)\u001b[0m\u001b[0;34m\u001b[0m\u001b[0m\n\u001b[0m\u001b[1;32m    346\u001b[0m             \u001b[0;32mreturn\u001b[0m \u001b[0;32mNone\u001b[0m\u001b[0;34m\u001b[0m\u001b[0m\n\u001b[1;32m    347\u001b[0m         \u001b[0;32melse\u001b[0m\u001b[0;34m:\u001b[0m\u001b[0;34m\u001b[0m\u001b[0m\n",
      "\u001b[0;32m/opt/conda/lib/python3.6/site-packages/pandas/core/frame.py\u001b[0m in \u001b[0;36m_repr_html_\u001b[0;34m(self)\u001b[0m\n\u001b[1;32m    694\u001b[0m     \u001b[0;34m@\u001b[0m\u001b[0mSubstitution\u001b[0m\u001b[0;34m(\u001b[0m\u001b[0mshared_params\u001b[0m\u001b[0;34m=\u001b[0m\u001b[0mfmt\u001b[0m\u001b[0;34m.\u001b[0m\u001b[0mcommon_docstring\u001b[0m\u001b[0;34m,\u001b[0m \u001b[0mreturns\u001b[0m\u001b[0;34m=\u001b[0m\u001b[0mfmt\u001b[0m\u001b[0;34m.\u001b[0m\u001b[0mreturn_docstring\u001b[0m\u001b[0;34m)\u001b[0m\u001b[0;34m\u001b[0m\u001b[0m\n\u001b[1;32m    695\u001b[0m     def to_string(\n\u001b[0;32m--> 696\u001b[0;31m         \u001b[0mself\u001b[0m\u001b[0;34m,\u001b[0m\u001b[0;34m\u001b[0m\u001b[0m\n\u001b[0m\u001b[1;32m    697\u001b[0m         \u001b[0mbuf\u001b[0m\u001b[0;34m=\u001b[0m\u001b[0;32mNone\u001b[0m\u001b[0;34m,\u001b[0m\u001b[0;34m\u001b[0m\u001b[0m\n\u001b[1;32m    698\u001b[0m         \u001b[0mcolumns\u001b[0m\u001b[0;34m=\u001b[0m\u001b[0;32mNone\u001b[0m\u001b[0;34m,\u001b[0m\u001b[0;34m\u001b[0m\u001b[0m\n",
      "\u001b[0;32m/opt/conda/lib/python3.6/site-packages/pandas/core/frame.py\u001b[0m in \u001b[0;36mto_html\u001b[0;34m(self, buf, columns, col_space, header, index, na_rep, formatters, float_format, sparsify, index_names, justify, bold_rows, classes, escape, max_rows, max_cols, show_dimensions, notebook, decimal, border, table_id)\u001b[0m\n\u001b[1;32m   2035\u001b[0m             \u001b[0mDefault\u001b[0m \u001b[0;32mis\u001b[0m \u001b[0mlatin\u001b[0m\u001b[0;34m-\u001b[0m\u001b[0;36m1.\u001b[0m \u001b[0mUnicode\u001b[0m \u001b[0;32mis\u001b[0m \u001b[0;32mnot\u001b[0m \u001b[0msupported\u001b[0m\u001b[0;34m.\u001b[0m\u001b[0;34m\u001b[0m\u001b[0m\n\u001b[1;32m   2036\u001b[0m         \u001b[0mbyteorder\u001b[0m \u001b[0;34m:\u001b[0m \u001b[0mstr\u001b[0m\u001b[0;34m\u001b[0m\u001b[0m\n\u001b[0;32m-> 2037\u001b[0;31m             \u001b[0mCan\u001b[0m \u001b[0mbe\u001b[0m \u001b[0;34m\">\"\u001b[0m\u001b[0;34m,\u001b[0m \u001b[0;34m\"<\"\u001b[0m\u001b[0;34m,\u001b[0m \u001b[0;34m\"little\"\u001b[0m\u001b[0;34m,\u001b[0m \u001b[0;32mor\u001b[0m \u001b[0;34m\"big\"\u001b[0m\u001b[0;34m.\u001b[0m \u001b[0mdefault\u001b[0m \u001b[0;32mis\u001b[0m\u001b[0;31m \u001b[0m\u001b[0;31m`\u001b[0m\u001b[0msys\u001b[0m\u001b[0;34m.\u001b[0m\u001b[0mbyteorder\u001b[0m\u001b[0;31m`\u001b[0m\u001b[0;34m.\u001b[0m\u001b[0;34m\u001b[0m\u001b[0m\n\u001b[0m\u001b[1;32m   2038\u001b[0m         \u001b[0mtime_stamp\u001b[0m \u001b[0;34m:\u001b[0m \u001b[0mdatetime\u001b[0m\u001b[0;34m\u001b[0m\u001b[0m\n\u001b[1;32m   2039\u001b[0m             \u001b[0mA\u001b[0m \u001b[0mdatetime\u001b[0m \u001b[0mto\u001b[0m \u001b[0muse\u001b[0m \u001b[0;32mas\u001b[0m \u001b[0mfile\u001b[0m \u001b[0mcreation\u001b[0m \u001b[0mdate\u001b[0m\u001b[0;34m.\u001b[0m  \u001b[0mDefault\u001b[0m \u001b[0;32mis\u001b[0m \u001b[0mthe\u001b[0m \u001b[0mcurrent\u001b[0m\u001b[0;34m\u001b[0m\u001b[0m\n",
      "\u001b[0;32m/opt/conda/lib/python3.6/site-packages/pandas/io/formats/format.py\u001b[0m in \u001b[0;36mto_html\u001b[0;34m(self, classes, notebook, border)\u001b[0m\n\u001b[1;32m    751\u001b[0m         \u001b[0;32melse\u001b[0m\u001b[0;34m:\u001b[0m\u001b[0;34m\u001b[0m\u001b[0m\n\u001b[1;32m    752\u001b[0m             \u001b[0mnrows\u001b[0m \u001b[0;34m=\u001b[0m \u001b[0mlen\u001b[0m\u001b[0;34m(\u001b[0m\u001b[0mself\u001b[0m\u001b[0;34m.\u001b[0m\u001b[0mframe\u001b[0m\u001b[0;34m)\u001b[0m\u001b[0;34m\u001b[0m\u001b[0m\n\u001b[0;32m--> 753\u001b[0;31m \u001b[0;34m\u001b[0m\u001b[0m\n\u001b[0m\u001b[1;32m    754\u001b[0m         \u001b[0mstr_lst\u001b[0m \u001b[0;34m=\u001b[0m \u001b[0;34m[\u001b[0m\u001b[0;34m]\u001b[0m\u001b[0;34m\u001b[0m\u001b[0m\n\u001b[1;32m    755\u001b[0m         \u001b[0mst\u001b[0m \u001b[0;34m=\u001b[0m \u001b[0;36m0\u001b[0m\u001b[0;34m\u001b[0m\u001b[0m\n",
      "\u001b[0;31mTypeError\u001b[0m: __init__() got an unexpected keyword argument 'max_rows'"
     ]
    },
    {
     "data": {
      "text/plain": [
       "        PatientId  AppointmentID Gender         Scheduled_Day  \\\n",
       "0  29872499824296        5642903      F  2016-04-29T18:38:08Z   \n",
       "1 558997776694438        5642503      M  2016-04-29T16:08:27Z   \n",
       "2   4262962299951        5642549      F  2016-04-29T16:19:04Z   \n",
       "3    867951213174        5642828      F  2016-04-29T17:29:31Z   \n",
       "4   8841186448183        5642494      F  2016-04-29T16:07:23Z   \n",
       "\n",
       "        Appointment_Day  Age      Neighbourhood  Scholarship  Hipertension  \\\n",
       "0  2016-04-29T00:00:00Z   62    JARDIM DA PENHA            0             1   \n",
       "1  2016-04-29T00:00:00Z   56    JARDIM DA PENHA            0             0   \n",
       "2  2016-04-29T00:00:00Z   62      MATA DA PRAIA            0             0   \n",
       "3  2016-04-29T00:00:00Z    8  PONTAL DE CAMBURI            0             0   \n",
       "4  2016-04-29T00:00:00Z   56    JARDIM DA PENHA            0             1   \n",
       "\n",
       "   Diabetes  Alcoholism  Handcap  SMS_received No_show  \n",
       "0         0           0        0             0      No  \n",
       "1         0           0        0             0      No  \n",
       "2         0           0        0             0      No  \n",
       "3         0           0        0             0      No  \n",
       "4         1           0        0             0      No  "
      ]
     },
     "execution_count": 35,
     "metadata": {},
     "output_type": "execute_result"
    }
   ],
   "source": [
    "# this is a function that changes a string\n",
    "def change_string(col):\n",
    "    '''changing ScheduledDay,AppointmentDay and No-show to Scheduled_Day,Appointment_Day and No_show '''\n",
    "    if 'Day' in col: #this line for ScheduledDay,AppointmentDay\n",
    "        col = (col[:-3] + '_' +col[-3:])\n",
    "    col = col.strip().replace('-','_') #this line for No-show\n",
    "    return col\n",
    "\n",
    "#renaming columns\n",
    "df.rename(columns=lambda column: change_string(column),inplace = True)  \n",
    "df.head() "
   ]
  },
  {
   "cell_type": "markdown",
   "metadata": {},
   "source": [
    "'ScheduledDay' ,'AppointmentDay','No-show' columns are renamed into 'Scheduled_Day','Appointment_Day','No_show'"
   ]
  },
  {
   "cell_type": "code",
   "execution_count": 36,
   "metadata": {
    "scrolled": true
   },
   "outputs": [
    {
     "ename": "TypeError",
     "evalue": "__init__() got an unexpected keyword argument 'max_rows'",
     "output_type": "error",
     "traceback": [
      "\u001b[0;31m---------------------------------------------------------------------------\u001b[0m",
      "\u001b[0;31mTypeError\u001b[0m                                 Traceback (most recent call last)",
      "\u001b[0;32m/opt/conda/lib/python3.6/site-packages/IPython/core/formatters.py\u001b[0m in \u001b[0;36m__call__\u001b[0;34m(self, obj)\u001b[0m\n\u001b[1;32m    343\u001b[0m             \u001b[0mmethod\u001b[0m \u001b[0;34m=\u001b[0m \u001b[0mget_real_method\u001b[0m\u001b[0;34m(\u001b[0m\u001b[0mobj\u001b[0m\u001b[0;34m,\u001b[0m \u001b[0mself\u001b[0m\u001b[0;34m.\u001b[0m\u001b[0mprint_method\u001b[0m\u001b[0;34m)\u001b[0m\u001b[0;34m\u001b[0m\u001b[0m\n\u001b[1;32m    344\u001b[0m             \u001b[0;32mif\u001b[0m \u001b[0mmethod\u001b[0m \u001b[0;32mis\u001b[0m \u001b[0;32mnot\u001b[0m \u001b[0;32mNone\u001b[0m\u001b[0;34m:\u001b[0m\u001b[0;34m\u001b[0m\u001b[0m\n\u001b[0;32m--> 345\u001b[0;31m                 \u001b[0;32mreturn\u001b[0m \u001b[0mmethod\u001b[0m\u001b[0;34m(\u001b[0m\u001b[0;34m)\u001b[0m\u001b[0;34m\u001b[0m\u001b[0m\n\u001b[0m\u001b[1;32m    346\u001b[0m             \u001b[0;32mreturn\u001b[0m \u001b[0;32mNone\u001b[0m\u001b[0;34m\u001b[0m\u001b[0m\n\u001b[1;32m    347\u001b[0m         \u001b[0;32melse\u001b[0m\u001b[0;34m:\u001b[0m\u001b[0;34m\u001b[0m\u001b[0m\n",
      "\u001b[0;32m/opt/conda/lib/python3.6/site-packages/pandas/core/frame.py\u001b[0m in \u001b[0;36m_repr_html_\u001b[0;34m(self)\u001b[0m\n\u001b[1;32m    694\u001b[0m     \u001b[0;34m@\u001b[0m\u001b[0mSubstitution\u001b[0m\u001b[0;34m(\u001b[0m\u001b[0mshared_params\u001b[0m\u001b[0;34m=\u001b[0m\u001b[0mfmt\u001b[0m\u001b[0;34m.\u001b[0m\u001b[0mcommon_docstring\u001b[0m\u001b[0;34m,\u001b[0m \u001b[0mreturns\u001b[0m\u001b[0;34m=\u001b[0m\u001b[0mfmt\u001b[0m\u001b[0;34m.\u001b[0m\u001b[0mreturn_docstring\u001b[0m\u001b[0;34m)\u001b[0m\u001b[0;34m\u001b[0m\u001b[0m\n\u001b[1;32m    695\u001b[0m     def to_string(\n\u001b[0;32m--> 696\u001b[0;31m         \u001b[0mself\u001b[0m\u001b[0;34m,\u001b[0m\u001b[0;34m\u001b[0m\u001b[0m\n\u001b[0m\u001b[1;32m    697\u001b[0m         \u001b[0mbuf\u001b[0m\u001b[0;34m=\u001b[0m\u001b[0;32mNone\u001b[0m\u001b[0;34m,\u001b[0m\u001b[0;34m\u001b[0m\u001b[0m\n\u001b[1;32m    698\u001b[0m         \u001b[0mcolumns\u001b[0m\u001b[0;34m=\u001b[0m\u001b[0;32mNone\u001b[0m\u001b[0;34m,\u001b[0m\u001b[0;34m\u001b[0m\u001b[0m\n",
      "\u001b[0;32m/opt/conda/lib/python3.6/site-packages/pandas/core/frame.py\u001b[0m in \u001b[0;36mto_html\u001b[0;34m(self, buf, columns, col_space, header, index, na_rep, formatters, float_format, sparsify, index_names, justify, bold_rows, classes, escape, max_rows, max_cols, show_dimensions, notebook, decimal, border, table_id)\u001b[0m\n\u001b[1;32m   2035\u001b[0m             \u001b[0mDefault\u001b[0m \u001b[0;32mis\u001b[0m \u001b[0mlatin\u001b[0m\u001b[0;34m-\u001b[0m\u001b[0;36m1.\u001b[0m \u001b[0mUnicode\u001b[0m \u001b[0;32mis\u001b[0m \u001b[0;32mnot\u001b[0m \u001b[0msupported\u001b[0m\u001b[0;34m.\u001b[0m\u001b[0;34m\u001b[0m\u001b[0m\n\u001b[1;32m   2036\u001b[0m         \u001b[0mbyteorder\u001b[0m \u001b[0;34m:\u001b[0m \u001b[0mstr\u001b[0m\u001b[0;34m\u001b[0m\u001b[0m\n\u001b[0;32m-> 2037\u001b[0;31m             \u001b[0mCan\u001b[0m \u001b[0mbe\u001b[0m \u001b[0;34m\">\"\u001b[0m\u001b[0;34m,\u001b[0m \u001b[0;34m\"<\"\u001b[0m\u001b[0;34m,\u001b[0m \u001b[0;34m\"little\"\u001b[0m\u001b[0;34m,\u001b[0m \u001b[0;32mor\u001b[0m \u001b[0;34m\"big\"\u001b[0m\u001b[0;34m.\u001b[0m \u001b[0mdefault\u001b[0m \u001b[0;32mis\u001b[0m\u001b[0;31m \u001b[0m\u001b[0;31m`\u001b[0m\u001b[0msys\u001b[0m\u001b[0;34m.\u001b[0m\u001b[0mbyteorder\u001b[0m\u001b[0;31m`\u001b[0m\u001b[0;34m.\u001b[0m\u001b[0;34m\u001b[0m\u001b[0m\n\u001b[0m\u001b[1;32m   2038\u001b[0m         \u001b[0mtime_stamp\u001b[0m \u001b[0;34m:\u001b[0m \u001b[0mdatetime\u001b[0m\u001b[0;34m\u001b[0m\u001b[0m\n\u001b[1;32m   2039\u001b[0m             \u001b[0mA\u001b[0m \u001b[0mdatetime\u001b[0m \u001b[0mto\u001b[0m \u001b[0muse\u001b[0m \u001b[0;32mas\u001b[0m \u001b[0mfile\u001b[0m \u001b[0mcreation\u001b[0m \u001b[0mdate\u001b[0m\u001b[0;34m.\u001b[0m  \u001b[0mDefault\u001b[0m \u001b[0;32mis\u001b[0m \u001b[0mthe\u001b[0m \u001b[0mcurrent\u001b[0m\u001b[0;34m\u001b[0m\u001b[0m\n",
      "\u001b[0;32m/opt/conda/lib/python3.6/site-packages/pandas/io/formats/format.py\u001b[0m in \u001b[0;36mto_html\u001b[0;34m(self, classes, notebook, border)\u001b[0m\n\u001b[1;32m    751\u001b[0m         \u001b[0;32melse\u001b[0m\u001b[0;34m:\u001b[0m\u001b[0;34m\u001b[0m\u001b[0m\n\u001b[1;32m    752\u001b[0m             \u001b[0mnrows\u001b[0m \u001b[0;34m=\u001b[0m \u001b[0mlen\u001b[0m\u001b[0;34m(\u001b[0m\u001b[0mself\u001b[0m\u001b[0;34m.\u001b[0m\u001b[0mframe\u001b[0m\u001b[0;34m)\u001b[0m\u001b[0;34m\u001b[0m\u001b[0m\n\u001b[0;32m--> 753\u001b[0;31m \u001b[0;34m\u001b[0m\u001b[0m\n\u001b[0m\u001b[1;32m    754\u001b[0m         \u001b[0mstr_lst\u001b[0m \u001b[0;34m=\u001b[0m \u001b[0;34m[\u001b[0m\u001b[0;34m]\u001b[0m\u001b[0;34m\u001b[0m\u001b[0m\n\u001b[1;32m    755\u001b[0m         \u001b[0mst\u001b[0m \u001b[0;34m=\u001b[0m \u001b[0;36m0\u001b[0m\u001b[0;34m\u001b[0m\u001b[0m\n",
      "\u001b[0;31mTypeError\u001b[0m: __init__() got an unexpected keyword argument 'max_rows'"
     ]
    },
    {
     "data": {
      "text/plain": [
       "       Patient_ID  Appointment_ID Gender         Scheduled_Day  \\\n",
       "0  29872499824296         5642903      F  2016-04-29T18:38:08Z   \n",
       "1 558997776694438         5642503      M  2016-04-29T16:08:27Z   \n",
       "2   4262962299951         5642549      F  2016-04-29T16:19:04Z   \n",
       "3    867951213174         5642828      F  2016-04-29T17:29:31Z   \n",
       "4   8841186448183         5642494      F  2016-04-29T16:07:23Z   \n",
       "\n",
       "        Appointment_Day  Age      Neighbourhood  Scholarship  Hypertension  \\\n",
       "0  2016-04-29T00:00:00Z   62    JARDIM DA PENHA            0             1   \n",
       "1  2016-04-29T00:00:00Z   56    JARDIM DA PENHA            0             0   \n",
       "2  2016-04-29T00:00:00Z   62      MATA DA PRAIA            0             0   \n",
       "3  2016-04-29T00:00:00Z    8  PONTAL DE CAMBURI            0             0   \n",
       "4  2016-04-29T00:00:00Z   56    JARDIM DA PENHA            0             1   \n",
       "\n",
       "   Diabetes  Alcoholism  Handicap  SMS_received No_show  \n",
       "0         0           0         0             0      No  \n",
       "1         0           0         0             0      No  \n",
       "2         0           0         0             0      No  \n",
       "3         0           0         0             0      No  \n",
       "4         1           0         0             0      No  "
      ]
     },
     "execution_count": 36,
     "metadata": {},
     "output_type": "execute_result"
    }
   ],
   "source": [
    "# After discussing the structure of the data and any problems that need to be\n",
    "#   cleaned, perform those cleaning steps in the second part of this section.\n",
    "# renaming columns\n",
    "df.rename(columns= {'PatientId':'Patient_ID','AppointmentID':'Appointment_ID','Hipertension':'Hypertension','Handcap':'Handicap'},inplace =  True)\n",
    "#checking changes\n",
    "df.head()"
   ]
  },
  {
   "cell_type": "markdown",
   "metadata": {},
   "source": [
    "The selected columns has been renamed"
   ]
  },
  {
   "cell_type": "code",
   "execution_count": 37,
   "metadata": {},
   "outputs": [
    {
     "ename": "TypeError",
     "evalue": "__init__() got an unexpected keyword argument 'max_rows'",
     "output_type": "error",
     "traceback": [
      "\u001b[0;31m---------------------------------------------------------------------------\u001b[0m",
      "\u001b[0;31mTypeError\u001b[0m                                 Traceback (most recent call last)",
      "\u001b[0;32m/opt/conda/lib/python3.6/site-packages/IPython/core/formatters.py\u001b[0m in \u001b[0;36m__call__\u001b[0;34m(self, obj)\u001b[0m\n\u001b[1;32m    343\u001b[0m             \u001b[0mmethod\u001b[0m \u001b[0;34m=\u001b[0m \u001b[0mget_real_method\u001b[0m\u001b[0;34m(\u001b[0m\u001b[0mobj\u001b[0m\u001b[0;34m,\u001b[0m \u001b[0mself\u001b[0m\u001b[0;34m.\u001b[0m\u001b[0mprint_method\u001b[0m\u001b[0;34m)\u001b[0m\u001b[0;34m\u001b[0m\u001b[0m\n\u001b[1;32m    344\u001b[0m             \u001b[0;32mif\u001b[0m \u001b[0mmethod\u001b[0m \u001b[0;32mis\u001b[0m \u001b[0;32mnot\u001b[0m \u001b[0;32mNone\u001b[0m\u001b[0;34m:\u001b[0m\u001b[0;34m\u001b[0m\u001b[0m\n\u001b[0;32m--> 345\u001b[0;31m                 \u001b[0;32mreturn\u001b[0m \u001b[0mmethod\u001b[0m\u001b[0;34m(\u001b[0m\u001b[0;34m)\u001b[0m\u001b[0;34m\u001b[0m\u001b[0m\n\u001b[0m\u001b[1;32m    346\u001b[0m             \u001b[0;32mreturn\u001b[0m \u001b[0;32mNone\u001b[0m\u001b[0;34m\u001b[0m\u001b[0m\n\u001b[1;32m    347\u001b[0m         \u001b[0;32melse\u001b[0m\u001b[0;34m:\u001b[0m\u001b[0;34m\u001b[0m\u001b[0m\n",
      "\u001b[0;32m/opt/conda/lib/python3.6/site-packages/pandas/core/frame.py\u001b[0m in \u001b[0;36m_repr_html_\u001b[0;34m(self)\u001b[0m\n\u001b[1;32m    694\u001b[0m     \u001b[0;34m@\u001b[0m\u001b[0mSubstitution\u001b[0m\u001b[0;34m(\u001b[0m\u001b[0mshared_params\u001b[0m\u001b[0;34m=\u001b[0m\u001b[0mfmt\u001b[0m\u001b[0;34m.\u001b[0m\u001b[0mcommon_docstring\u001b[0m\u001b[0;34m,\u001b[0m \u001b[0mreturns\u001b[0m\u001b[0;34m=\u001b[0m\u001b[0mfmt\u001b[0m\u001b[0;34m.\u001b[0m\u001b[0mreturn_docstring\u001b[0m\u001b[0;34m)\u001b[0m\u001b[0;34m\u001b[0m\u001b[0m\n\u001b[1;32m    695\u001b[0m     def to_string(\n\u001b[0;32m--> 696\u001b[0;31m         \u001b[0mself\u001b[0m\u001b[0;34m,\u001b[0m\u001b[0;34m\u001b[0m\u001b[0m\n\u001b[0m\u001b[1;32m    697\u001b[0m         \u001b[0mbuf\u001b[0m\u001b[0;34m=\u001b[0m\u001b[0;32mNone\u001b[0m\u001b[0;34m,\u001b[0m\u001b[0;34m\u001b[0m\u001b[0m\n\u001b[1;32m    698\u001b[0m         \u001b[0mcolumns\u001b[0m\u001b[0;34m=\u001b[0m\u001b[0;32mNone\u001b[0m\u001b[0;34m,\u001b[0m\u001b[0;34m\u001b[0m\u001b[0m\n",
      "\u001b[0;32m/opt/conda/lib/python3.6/site-packages/pandas/core/frame.py\u001b[0m in \u001b[0;36mto_html\u001b[0;34m(self, buf, columns, col_space, header, index, na_rep, formatters, float_format, sparsify, index_names, justify, bold_rows, classes, escape, max_rows, max_cols, show_dimensions, notebook, decimal, border, table_id)\u001b[0m\n\u001b[1;32m   2035\u001b[0m             \u001b[0mDefault\u001b[0m \u001b[0;32mis\u001b[0m \u001b[0mlatin\u001b[0m\u001b[0;34m-\u001b[0m\u001b[0;36m1.\u001b[0m \u001b[0mUnicode\u001b[0m \u001b[0;32mis\u001b[0m \u001b[0;32mnot\u001b[0m \u001b[0msupported\u001b[0m\u001b[0;34m.\u001b[0m\u001b[0;34m\u001b[0m\u001b[0m\n\u001b[1;32m   2036\u001b[0m         \u001b[0mbyteorder\u001b[0m \u001b[0;34m:\u001b[0m \u001b[0mstr\u001b[0m\u001b[0;34m\u001b[0m\u001b[0m\n\u001b[0;32m-> 2037\u001b[0;31m             \u001b[0mCan\u001b[0m \u001b[0mbe\u001b[0m \u001b[0;34m\">\"\u001b[0m\u001b[0;34m,\u001b[0m \u001b[0;34m\"<\"\u001b[0m\u001b[0;34m,\u001b[0m \u001b[0;34m\"little\"\u001b[0m\u001b[0;34m,\u001b[0m \u001b[0;32mor\u001b[0m \u001b[0;34m\"big\"\u001b[0m\u001b[0;34m.\u001b[0m \u001b[0mdefault\u001b[0m \u001b[0;32mis\u001b[0m\u001b[0;31m \u001b[0m\u001b[0;31m`\u001b[0m\u001b[0msys\u001b[0m\u001b[0;34m.\u001b[0m\u001b[0mbyteorder\u001b[0m\u001b[0;31m`\u001b[0m\u001b[0;34m.\u001b[0m\u001b[0;34m\u001b[0m\u001b[0m\n\u001b[0m\u001b[1;32m   2038\u001b[0m         \u001b[0mtime_stamp\u001b[0m \u001b[0;34m:\u001b[0m \u001b[0mdatetime\u001b[0m\u001b[0;34m\u001b[0m\u001b[0m\n\u001b[1;32m   2039\u001b[0m             \u001b[0mA\u001b[0m \u001b[0mdatetime\u001b[0m \u001b[0mto\u001b[0m \u001b[0muse\u001b[0m \u001b[0;32mas\u001b[0m \u001b[0mfile\u001b[0m \u001b[0mcreation\u001b[0m \u001b[0mdate\u001b[0m\u001b[0;34m.\u001b[0m  \u001b[0mDefault\u001b[0m \u001b[0;32mis\u001b[0m \u001b[0mthe\u001b[0m \u001b[0mcurrent\u001b[0m\u001b[0;34m\u001b[0m\u001b[0m\n",
      "\u001b[0;32m/opt/conda/lib/python3.6/site-packages/pandas/io/formats/format.py\u001b[0m in \u001b[0;36mto_html\u001b[0;34m(self, classes, notebook, border)\u001b[0m\n\u001b[1;32m    751\u001b[0m         \u001b[0;32melse\u001b[0m\u001b[0;34m:\u001b[0m\u001b[0;34m\u001b[0m\u001b[0m\n\u001b[1;32m    752\u001b[0m             \u001b[0mnrows\u001b[0m \u001b[0;34m=\u001b[0m \u001b[0mlen\u001b[0m\u001b[0;34m(\u001b[0m\u001b[0mself\u001b[0m\u001b[0;34m.\u001b[0m\u001b[0mframe\u001b[0m\u001b[0;34m)\u001b[0m\u001b[0;34m\u001b[0m\u001b[0m\n\u001b[0;32m--> 753\u001b[0;31m \u001b[0;34m\u001b[0m\u001b[0m\n\u001b[0m\u001b[1;32m    754\u001b[0m         \u001b[0mstr_lst\u001b[0m \u001b[0;34m=\u001b[0m \u001b[0;34m[\u001b[0m\u001b[0;34m]\u001b[0m\u001b[0;34m\u001b[0m\u001b[0m\n\u001b[1;32m    755\u001b[0m         \u001b[0mst\u001b[0m \u001b[0;34m=\u001b[0m \u001b[0;36m0\u001b[0m\u001b[0;34m\u001b[0m\u001b[0m\n",
      "\u001b[0;31mTypeError\u001b[0m: __init__() got an unexpected keyword argument 'max_rows'"
     ]
    },
    {
     "data": {
      "text/plain": [
       "       Patient_ID Gender         Scheduled_Day       Appointment_Day  Age  \\\n",
       "0  29872499824296      F  2016-04-29T18:38:08Z  2016-04-29T00:00:00Z   62   \n",
       "1 558997776694438      M  2016-04-29T16:08:27Z  2016-04-29T00:00:00Z   56   \n",
       "2   4262962299951      F  2016-04-29T16:19:04Z  2016-04-29T00:00:00Z   62   \n",
       "3    867951213174      F  2016-04-29T17:29:31Z  2016-04-29T00:00:00Z    8   \n",
       "4   8841186448183      F  2016-04-29T16:07:23Z  2016-04-29T00:00:00Z   56   \n",
       "\n",
       "       Neighbourhood  Scholarship  Hypertension  Diabetes  Alcoholism  \\\n",
       "0    JARDIM DA PENHA            0             1         0           0   \n",
       "1    JARDIM DA PENHA            0             0         0           0   \n",
       "2      MATA DA PRAIA            0             0         0           0   \n",
       "3  PONTAL DE CAMBURI            0             0         0           0   \n",
       "4    JARDIM DA PENHA            0             1         1           0   \n",
       "\n",
       "   Handicap  SMS_received No_show  \n",
       "0         0             0      No  \n",
       "1         0             0      No  \n",
       "2         0             0      No  \n",
       "3         0             0      No  \n",
       "4         0             0      No  "
      ]
     },
     "execution_count": 37,
     "metadata": {},
     "output_type": "execute_result"
    }
   ],
   "source": [
    "#dropping the 'Appointment_ID' column\n",
    "df.drop(['Appointment_ID'],axis = 1,inplace = True)\n",
    "#checking changes\n",
    "df.head()"
   ]
  },
  {
   "cell_type": "markdown",
   "metadata": {},
   "source": [
    "The 'AppointmentID' column has been deleted as it will not help in this\n",
    "analysis"
   ]
  },
  {
   "cell_type": "code",
   "execution_count": 38,
   "metadata": {},
   "outputs": [
    {
     "ename": "TypeError",
     "evalue": "__init__() got an unexpected keyword argument 'max_rows'",
     "output_type": "error",
     "traceback": [
      "\u001b[0;31m---------------------------------------------------------------------------\u001b[0m",
      "\u001b[0;31mTypeError\u001b[0m                                 Traceback (most recent call last)",
      "\u001b[0;32m/opt/conda/lib/python3.6/site-packages/IPython/core/formatters.py\u001b[0m in \u001b[0;36m__call__\u001b[0;34m(self, obj)\u001b[0m\n\u001b[1;32m    343\u001b[0m             \u001b[0mmethod\u001b[0m \u001b[0;34m=\u001b[0m \u001b[0mget_real_method\u001b[0m\u001b[0;34m(\u001b[0m\u001b[0mobj\u001b[0m\u001b[0;34m,\u001b[0m \u001b[0mself\u001b[0m\u001b[0;34m.\u001b[0m\u001b[0mprint_method\u001b[0m\u001b[0;34m)\u001b[0m\u001b[0;34m\u001b[0m\u001b[0m\n\u001b[1;32m    344\u001b[0m             \u001b[0;32mif\u001b[0m \u001b[0mmethod\u001b[0m \u001b[0;32mis\u001b[0m \u001b[0;32mnot\u001b[0m \u001b[0;32mNone\u001b[0m\u001b[0;34m:\u001b[0m\u001b[0;34m\u001b[0m\u001b[0m\n\u001b[0;32m--> 345\u001b[0;31m                 \u001b[0;32mreturn\u001b[0m \u001b[0mmethod\u001b[0m\u001b[0;34m(\u001b[0m\u001b[0;34m)\u001b[0m\u001b[0;34m\u001b[0m\u001b[0m\n\u001b[0m\u001b[1;32m    346\u001b[0m             \u001b[0;32mreturn\u001b[0m \u001b[0;32mNone\u001b[0m\u001b[0;34m\u001b[0m\u001b[0m\n\u001b[1;32m    347\u001b[0m         \u001b[0;32melse\u001b[0m\u001b[0;34m:\u001b[0m\u001b[0;34m\u001b[0m\u001b[0m\n",
      "\u001b[0;32m/opt/conda/lib/python3.6/site-packages/pandas/core/frame.py\u001b[0m in \u001b[0;36m_repr_html_\u001b[0;34m(self)\u001b[0m\n\u001b[1;32m    694\u001b[0m     \u001b[0;34m@\u001b[0m\u001b[0mSubstitution\u001b[0m\u001b[0;34m(\u001b[0m\u001b[0mshared_params\u001b[0m\u001b[0;34m=\u001b[0m\u001b[0mfmt\u001b[0m\u001b[0;34m.\u001b[0m\u001b[0mcommon_docstring\u001b[0m\u001b[0;34m,\u001b[0m \u001b[0mreturns\u001b[0m\u001b[0;34m=\u001b[0m\u001b[0mfmt\u001b[0m\u001b[0;34m.\u001b[0m\u001b[0mreturn_docstring\u001b[0m\u001b[0;34m)\u001b[0m\u001b[0;34m\u001b[0m\u001b[0m\n\u001b[1;32m    695\u001b[0m     def to_string(\n\u001b[0;32m--> 696\u001b[0;31m         \u001b[0mself\u001b[0m\u001b[0;34m,\u001b[0m\u001b[0;34m\u001b[0m\u001b[0m\n\u001b[0m\u001b[1;32m    697\u001b[0m         \u001b[0mbuf\u001b[0m\u001b[0;34m=\u001b[0m\u001b[0;32mNone\u001b[0m\u001b[0;34m,\u001b[0m\u001b[0;34m\u001b[0m\u001b[0m\n\u001b[1;32m    698\u001b[0m         \u001b[0mcolumns\u001b[0m\u001b[0;34m=\u001b[0m\u001b[0;32mNone\u001b[0m\u001b[0;34m,\u001b[0m\u001b[0;34m\u001b[0m\u001b[0m\n",
      "\u001b[0;32m/opt/conda/lib/python3.6/site-packages/pandas/core/frame.py\u001b[0m in \u001b[0;36mto_html\u001b[0;34m(self, buf, columns, col_space, header, index, na_rep, formatters, float_format, sparsify, index_names, justify, bold_rows, classes, escape, max_rows, max_cols, show_dimensions, notebook, decimal, border, table_id)\u001b[0m\n\u001b[1;32m   2035\u001b[0m             \u001b[0mDefault\u001b[0m \u001b[0;32mis\u001b[0m \u001b[0mlatin\u001b[0m\u001b[0;34m-\u001b[0m\u001b[0;36m1.\u001b[0m \u001b[0mUnicode\u001b[0m \u001b[0;32mis\u001b[0m \u001b[0;32mnot\u001b[0m \u001b[0msupported\u001b[0m\u001b[0;34m.\u001b[0m\u001b[0;34m\u001b[0m\u001b[0m\n\u001b[1;32m   2036\u001b[0m         \u001b[0mbyteorder\u001b[0m \u001b[0;34m:\u001b[0m \u001b[0mstr\u001b[0m\u001b[0;34m\u001b[0m\u001b[0m\n\u001b[0;32m-> 2037\u001b[0;31m             \u001b[0mCan\u001b[0m \u001b[0mbe\u001b[0m \u001b[0;34m\">\"\u001b[0m\u001b[0;34m,\u001b[0m \u001b[0;34m\"<\"\u001b[0m\u001b[0;34m,\u001b[0m \u001b[0;34m\"little\"\u001b[0m\u001b[0;34m,\u001b[0m \u001b[0;32mor\u001b[0m \u001b[0;34m\"big\"\u001b[0m\u001b[0;34m.\u001b[0m \u001b[0mdefault\u001b[0m \u001b[0;32mis\u001b[0m\u001b[0;31m \u001b[0m\u001b[0;31m`\u001b[0m\u001b[0msys\u001b[0m\u001b[0;34m.\u001b[0m\u001b[0mbyteorder\u001b[0m\u001b[0;31m`\u001b[0m\u001b[0;34m.\u001b[0m\u001b[0;34m\u001b[0m\u001b[0m\n\u001b[0m\u001b[1;32m   2038\u001b[0m         \u001b[0mtime_stamp\u001b[0m \u001b[0;34m:\u001b[0m \u001b[0mdatetime\u001b[0m\u001b[0;34m\u001b[0m\u001b[0m\n\u001b[1;32m   2039\u001b[0m             \u001b[0mA\u001b[0m \u001b[0mdatetime\u001b[0m \u001b[0mto\u001b[0m \u001b[0muse\u001b[0m \u001b[0;32mas\u001b[0m \u001b[0mfile\u001b[0m \u001b[0mcreation\u001b[0m \u001b[0mdate\u001b[0m\u001b[0;34m.\u001b[0m  \u001b[0mDefault\u001b[0m \u001b[0;32mis\u001b[0m \u001b[0mthe\u001b[0m \u001b[0mcurrent\u001b[0m\u001b[0;34m\u001b[0m\u001b[0m\n",
      "\u001b[0;32m/opt/conda/lib/python3.6/site-packages/pandas/io/formats/format.py\u001b[0m in \u001b[0;36mto_html\u001b[0;34m(self, classes, notebook, border)\u001b[0m\n\u001b[1;32m    751\u001b[0m         \u001b[0;32melse\u001b[0m\u001b[0;34m:\u001b[0m\u001b[0;34m\u001b[0m\u001b[0m\n\u001b[1;32m    752\u001b[0m             \u001b[0mnrows\u001b[0m \u001b[0;34m=\u001b[0m \u001b[0mlen\u001b[0m\u001b[0;34m(\u001b[0m\u001b[0mself\u001b[0m\u001b[0;34m.\u001b[0m\u001b[0mframe\u001b[0m\u001b[0;34m)\u001b[0m\u001b[0;34m\u001b[0m\u001b[0m\n\u001b[0;32m--> 753\u001b[0;31m \u001b[0;34m\u001b[0m\u001b[0m\n\u001b[0m\u001b[1;32m    754\u001b[0m         \u001b[0mstr_lst\u001b[0m \u001b[0;34m=\u001b[0m \u001b[0;34m[\u001b[0m\u001b[0;34m]\u001b[0m\u001b[0;34m\u001b[0m\u001b[0m\n\u001b[1;32m    755\u001b[0m         \u001b[0mst\u001b[0m \u001b[0;34m=\u001b[0m \u001b[0;36m0\u001b[0m\u001b[0;34m\u001b[0m\u001b[0m\n",
      "\u001b[0;31mTypeError\u001b[0m: __init__() got an unexpected keyword argument 'max_rows'"
     ]
    },
    {
     "data": {
      "text/plain": [
       "           Patient_ID    Age  Scholarship  Hypertension  Diabetes  Alcoholism  \\\n",
       "count          110527 110527       110527        110527    110527      110527   \n",
       "mean  147496265710394     37            0             0         0           0   \n",
       "std   256094920291739     23            0             0         0           0   \n",
       "min             39218      0            0             0         0           0   \n",
       "25%     4172614444192     18            0             0         0           0   \n",
       "50%    31731838713978     37            0             0         0           0   \n",
       "75%    94391720898175     55            0             0         0           0   \n",
       "max   999981631772427    115            1             1         1           1   \n",
       "\n",
       "       Handicap  SMS_received  \n",
       "count    110527        110527  \n",
       "mean          0             0  \n",
       "std           0             0  \n",
       "min           0             0  \n",
       "25%           0             0  \n",
       "50%           0             0  \n",
       "75%           0             1  \n",
       "max           4             1  "
      ]
     },
     "execution_count": 38,
     "metadata": {},
     "output_type": "execute_result"
    }
   ],
   "source": [
    "#fixing the age error\n",
    "df.Age.replace({-1:0}, inplace = True)\n",
    "#checking changes\n",
    "df.describe()"
   ]
  },
  {
   "cell_type": "markdown",
   "metadata": {},
   "source": [
    "The min in 'Age' column becomes 0 not -1"
   ]
  },
  {
   "cell_type": "code",
   "execution_count": 39,
   "metadata": {},
   "outputs": [
    {
     "data": {
      "text/plain": [
       "618"
      ]
     },
     "execution_count": 39,
     "metadata": {},
     "output_type": "execute_result"
    }
   ],
   "source": [
    "#checking any duplicates after deleting the 'AppointmentID' column\n",
    "df.duplicated().sum()"
   ]
  },
  {
   "cell_type": "markdown",
   "metadata": {},
   "source": [
    "There are 618 duplicates in this dataset after deleting the\n",
    "'AppointmentID' column\n",
    "\n",
    "This could be an error, where in fact there should be one entry per\n",
    "duplicate, but it also could be valid: patients can be scheduled for\n",
    "more than one time. So, we will these duplicate values"
   ]
  },
  {
   "cell_type": "code",
   "execution_count": 40,
   "metadata": {},
   "outputs": [
    {
     "data": {
      "text/plain": [
       "0          True\n",
       "1          True\n",
       "2          True\n",
       "3          True\n",
       "4          True\n",
       "5          True\n",
       "6         False\n",
       "7         False\n",
       "8          True\n",
       "9          True\n",
       "10         True\n",
       "11        False\n",
       "12         True\n",
       "13         True\n",
       "14         True\n",
       "15         True\n",
       "16         True\n",
       "17        False\n",
       "18         True\n",
       "19         True\n",
       "20        False\n",
       "21        False\n",
       "22        False\n",
       "23         True\n",
       "24         True\n",
       "25         True\n",
       "26         True\n",
       "27         True\n",
       "28         True\n",
       "29         True\n",
       "          ...  \n",
       "110497     True\n",
       "110498     True\n",
       "110499     True\n",
       "110500     True\n",
       "110501     True\n",
       "110502     True\n",
       "110503     True\n",
       "110504     True\n",
       "110505     True\n",
       "110506     True\n",
       "110507     True\n",
       "110508     True\n",
       "110509     True\n",
       "110510     True\n",
       "110511     True\n",
       "110512     True\n",
       "110513     True\n",
       "110514     True\n",
       "110515    False\n",
       "110516    False\n",
       "110517     True\n",
       "110518     True\n",
       "110519     True\n",
       "110520     True\n",
       "110521     True\n",
       "110522     True\n",
       "110523     True\n",
       "110524     True\n",
       "110525     True\n",
       "110526     True\n",
       "Name: No_show, Length: 110527, dtype: bool"
      ]
     },
     "execution_count": 40,
     "metadata": {},
     "output_type": "execute_result"
    }
   ],
   "source": [
    "#Assinging the patients who showed in their appointment as it will help us in our analysis\n",
    "show = df.No_show == 'No'\n",
    "#checking assigning\n",
    "show"
   ]
  },
  {
   "cell_type": "markdown",
   "metadata": {},
   "source": [
    "'show' variable will represent the who showed in the appointment"
   ]
  },
  {
   "cell_type": "code",
   "execution_count": 41,
   "metadata": {},
   "outputs": [
    {
     "data": {
      "text/plain": [
       "0         False\n",
       "1         False\n",
       "2         False\n",
       "3         False\n",
       "4         False\n",
       "5         False\n",
       "6          True\n",
       "7          True\n",
       "8         False\n",
       "9         False\n",
       "10        False\n",
       "11         True\n",
       "12        False\n",
       "13        False\n",
       "14        False\n",
       "15        False\n",
       "16        False\n",
       "17         True\n",
       "18        False\n",
       "19        False\n",
       "20         True\n",
       "21         True\n",
       "22         True\n",
       "23        False\n",
       "24        False\n",
       "25        False\n",
       "26        False\n",
       "27        False\n",
       "28        False\n",
       "29        False\n",
       "          ...  \n",
       "110497    False\n",
       "110498    False\n",
       "110499    False\n",
       "110500    False\n",
       "110501    False\n",
       "110502    False\n",
       "110503    False\n",
       "110504    False\n",
       "110505    False\n",
       "110506    False\n",
       "110507    False\n",
       "110508    False\n",
       "110509    False\n",
       "110510    False\n",
       "110511    False\n",
       "110512    False\n",
       "110513    False\n",
       "110514    False\n",
       "110515     True\n",
       "110516     True\n",
       "110517    False\n",
       "110518    False\n",
       "110519    False\n",
       "110520    False\n",
       "110521    False\n",
       "110522    False\n",
       "110523    False\n",
       "110524    False\n",
       "110525    False\n",
       "110526    False\n",
       "Name: No_show, Length: 110527, dtype: bool"
      ]
     },
     "execution_count": 41,
     "metadata": {},
     "output_type": "execute_result"
    }
   ],
   "source": [
    "#Assinging the patients who didn't show in their appointment as it will help us in our analysis\n",
    "No_show = df.No_show == 'Yes'\n",
    "#checking assigning\n",
    "No_show"
   ]
  },
  {
   "cell_type": "markdown",
   "metadata": {},
   "source": [
    "'No_show' variable will represent the who didn't show in the appointment"
   ]
  },
  {
   "cell_type": "markdown",
   "metadata": {},
   "source": [
    "<a id='eda'></a>\n",
    "## Exploratory Data Analysis\n",
    "\n",
    "> **Tip**: Now that you've trimmed and cleaned your data, you're ready to move on to exploration. **Compute statistics** and **create visualizations** with the goal of addressing the research questions that you posed in the Introduction section. You should compute the relevant statistics throughout the analysis when an inference is made about the data. Note that at least two or more kinds of plots should be created as part of the exploration, and you must  compare and show trends in the varied visualizations. \n",
    "\n",
    "\n",
    "\n",
    "> **Tip**: - Investigate the stated question(s) from multiple angles. It is recommended that you be systematic with your approach. Look at one variable at a time, and then follow it up by looking at relationships between variables. You should explore at least three variables in relation to the primary question. This can be an exploratory relationship between three variables of interest, or looking at how two independent variables relate to a single dependent variable of interest. Lastly, you  should perform both single-variable (1d) and multiple-variable (2d) explorations.\n",
    "\n",
    "\n",
    "### Research Question 1 (What factors are important for us to know in order to predict if a patient will show up for their scheduled appointment?)"
   ]
  },
  {
   "cell_type": "code",
   "execution_count": 42,
   "metadata": {},
   "outputs": [],
   "source": [
    "#this is a function that makes a histogram chart\n",
    "def hist_plot(col_name,show,no_show,title,xlabel,ylabel):\n",
    "    '''making a histogram'''\n",
    "    col_name[show].hist(alpha = 0.5 ,label ='show',bins=20)\n",
    "    col_name[No_show].hist(alpha = 0.5 ,label ='No show',bins=20)\n",
    "    plt.legend()\n",
    "    plt.title(title) #title of the chart\n",
    "    plt.xlabel(xlabel)# x-axis label of the chart\n",
    "    plt.ylabel(ylabel);# y-axis label of the chart"
   ]
  },
  {
   "cell_type": "markdown",
   "metadata": {},
   "source": [
    "This is a histogram "
   ]
  },
  {
   "cell_type": "code",
   "execution_count": 43,
   "metadata": {},
   "outputs": [
    {
     "data": {
      "image/png": "[encoded data removed]",
      "text/plain": [
       "<matplotlib.figure.Figure at 0x7fa417cad898>"
      ]
     },
     "metadata": {
      "needs_background": "light"
     },
     "output_type": "display_data"
    }
   ],
   "source": [
    " # this is a Comparison between who showed in the appointment to not showed according to their gender\n",
    "plt.figure(figsize=[14.70,8.27])\n",
    "title='Comparison between who showed in the appointment to not showed according to their gender '\n",
    "xlabel = 'Gender'\n",
    "ylabel = 'Patients number'\n",
    "hist_plot(df.Gender,show,No_show,title,xlabel,ylabel)"
   ]
  },
  {
   "cell_type": "markdown",
   "metadata": {},
   "source": [
    "There is no connection between the gender of a patient and the showing or non-showing in the appointment \n",
    "\n",
    "But, it showed us that females show in the appointment more than males  \n",
    "\n",
    "And also females don't show in the appointment more than males"
   ]
  },
  {
   "cell_type": "code",
   "execution_count": 44,
   "metadata": {},
   "outputs": [
    {
     "data": {
      "image/png": "[encoded data removed]",
      "text/plain": [
       "<matplotlib.figure.Figure at 0x7fa41a3d5518>"
      ]
     },
     "metadata": {
      "needs_background": "light"
     },
     "output_type": "display_data"
    }
   ],
   "source": [
    "# this is a comparison between ages according to their showing in the appointment\n",
    "plt.figure(figsize=[14.70,8.27])\n",
    "title='Comparison between ages according to their showing in the appointment'\n",
    "xlabel = 'Age'\n",
    "ylabel = 'Patients number'\n",
    "hist_plot(df.Age,show,No_show,title,xlabel,ylabel)"
   ]
  },
  {
   "cell_type": "markdown",
   "metadata": {},
   "source": [
    "There is a connection between the age of a patient and the showing or non-showing in the appointment \n",
    "\n",
    "As the older the patient, the less he can show in the appointment  \n",
    "\n",
    "In this chart, we can see that the most age of a patient show in the appointment is from 0-10 years old  \n",
    "\n",
    "Then, from 35-70 years old"
   ]
  },
  {
   "cell_type": "code",
   "execution_count": 45,
   "metadata": {},
   "outputs": [
    {
     "data": {
      "image/png": "[encoded data removed]",
      "text/plain": [
       "<matplotlib.figure.Figure at 0x7fa41a336c18>"
      ]
     },
     "metadata": {
      "needs_background": "light"
     },
     "output_type": "display_data"
    }
   ],
   "source": [
    "# this is a comparison between who showed in the appointment to not showed according to their scholarship\n",
    "plt.figure(figsize=[14.70,8.27])\n",
    "title='Comparison between who showed in the appointment to not showed according to their scholarship'\n",
    "xlabel = 'Scholarship'\n",
    "ylabel = 'Patients number'\n",
    "hist_plot(df.Scholarship,show,No_show,title,xlabel,ylabel)\n"
   ]
  },
  {
   "cell_type": "markdown",
   "metadata": {},
   "source": [
    "There is no connection between the scholarship and the showing or non-showing in the appointment"
   ]
  },
  {
   "cell_type": "code",
   "execution_count": 46,
   "metadata": {},
   "outputs": [
    {
     "data": {
      "image/png": "[encoded data removed]",
      "text/plain": [
       "<matplotlib.figure.Figure at 0x7fa41a1951d0>"
      ]
     },
     "metadata": {
      "needs_background": "light"
     },
     "output_type": "display_data"
    }
   ],
   "source": [
    "#this is a comparison between who showed in the appointment to not showed according to their Hypertension\n",
    "plt.figure(figsize=[14.70,8.27])\n",
    "title = 'Comparison between who showed in the appointment to not showed according to their Hypertension'\n",
    "xlabel = 'Hypertension'\n",
    "ylabel = 'Patients number'\n",
    "hist_plot(df.Hypertension,show,No_show,title,xlabel,ylabel)"
   ]
  },
  {
   "cell_type": "markdown",
   "metadata": {},
   "source": [
    "There is no connection between the hypertension of a patient and the showing or non-showing in the appointment"
   ]
  },
  {
   "cell_type": "code",
   "execution_count": 47,
   "metadata": {},
   "outputs": [
    {
     "data": {
      "image/png": "[encoded data removed]",
      "text/plain": [
       "<matplotlib.figure.Figure at 0x7fa41a0e9e10>"
      ]
     },
     "metadata": {
      "needs_background": "light"
     },
     "output_type": "display_data"
    }
   ],
   "source": [
    "# this is a comparison between who showed in the appointment to not showed according to their Neighbourhood\n",
    "plt.figure(figsize=[24.70,8.27])\n",
    "df.Neighbourhood[show].value_counts().plot(kind='bar',alpha = 0.5 ,label ='show',color='green')\n",
    "df.Neighbourhood[No_show].value_counts().plot(kind='bar',alpha = 0.5 ,label ='No show',color='red')\n",
    "plt.legend()\n",
    "plt.title('Comparison between who showed in the appointment to not showed according to their Neighbourhood')\n",
    "plt.xlabel('Neighbourhood')\n",
    "plt.ylabel('Patients number');"
   ]
  },
  {
   "cell_type": "markdown",
   "metadata": {},
   "source": [
    "There is connection between the neighbourhood and the showing or non-showing in the appointment  \n",
    "\n",
    "But, the most neighbourhood place that the patient go to the appointment is Jardim Camburi"
   ]
  },
  {
   "cell_type": "code",
   "execution_count": 48,
   "metadata": {},
   "outputs": [
    {
     "data": {
      "image/png": "[encoded data removed]",
      "text/plain": [
       "<matplotlib.figure.Figure at 0x7fa419fdbfd0>"
      ]
     },
     "metadata": {
      "needs_background": "light"
     },
     "output_type": "display_data"
    }
   ],
   "source": [
    "# this is a comparison between who showed in the appointment to not showed according to their Alcoholism\n",
    "plt.figure(figsize=[14.70,8.27])\n",
    "title='Comparison between who showed in the appointment to not showed according to their Alcoholism'\n",
    "xlabel = 'Alcoholism'\n",
    "ylabel = 'Patients number'\n",
    "hist_plot(df.Alcoholism,show,No_show,title,xlabel,ylabel)"
   ]
  },
  {
   "cell_type": "markdown",
   "metadata": {},
   "source": [
    "There is no connection between the alcoholism of a patient and the showing or non-showing in the appointment\n"
   ]
  },
  {
   "cell_type": "code",
   "execution_count": 49,
   "metadata": {},
   "outputs": [
    {
     "data": {
      "image/png": "[encoded data removed]",
      "text/plain": [
       "<matplotlib.figure.Figure at 0x7fa419def908>"
      ]
     },
     "metadata": {
      "needs_background": "light"
     },
     "output_type": "display_data"
    }
   ],
   "source": [
    "# this is a comparison between who showed in the appointment to not showed according to their Diabetes\n",
    "plt.figure(figsize=[14.70,8.27])\n",
    "title='Comparison between who showed in the appointment to not showed according to their Diabetes'\n",
    "xlabel = 'Diabetes'\n",
    "ylabel = 'Patients number'\n",
    "hist_plot(df.Diabetes,show,No_show,title,xlabel,ylabel)"
   ]
  },
  {
   "cell_type": "markdown",
   "metadata": {},
   "source": [
    "There is no connection between the patient's diabetes and the showing or non-showing in the appointment"
   ]
  },
  {
   "cell_type": "code",
   "execution_count": 50,
   "metadata": {},
   "outputs": [
    {
     "data": {
      "image/png": "[encoded data removed]",
      "text/plain": [
       "<matplotlib.figure.Figure at 0x7fa419dd58d0>"
      ]
     },
     "metadata": {
      "needs_background": "light"
     },
     "output_type": "display_data"
    }
   ],
   "source": [
    "# this is a comparison between who showed in the appointment to not showed according to their handicapness\n",
    "plt.figure(figsize=[14.70,8.27])\n",
    "title='Comparison between who showed in the appointment to not showed according to their handicapness'\n",
    "xlabel = 'Handicap'\n",
    "ylabel = 'Patients number'\n",
    "hist_plot(df.Handicap,show,No_show,title,xlabel,ylabel)"
   ]
  },
  {
   "cell_type": "markdown",
   "metadata": {},
   "source": [
    "There is no connection between the handicapness of a patient and the showing or non-showing in the appointment"
   ]
  },
  {
   "cell_type": "markdown",
   "metadata": {},
   "source": [
    "### Research question 2 (Which gender show more to the appointment?)"
   ]
  },
  {
   "cell_type": "code",
   "execution_count": 51,
   "metadata": {},
   "outputs": [],
   "source": [
    "def pie_plot(arr,label):\n",
    "    plt.pie(arr,label,autopct='%1.0f%%')"
   ]
  },
  {
   "cell_type": "code",
   "execution_count": 52,
   "metadata": {},
   "outputs": [
    {
     "data": {
      "image/png": "[encoded data removed]",
      "text/plain": [
       "<matplotlib.figure.Figure at 0x7fa419ffa240>"
      ]
     },
     "metadata": {},
     "output_type": "display_data"
    }
   ],
   "source": [
    "# this is a porportion of patient who showed to the appointment to not showed\n",
    "Patients_Show = [No_show.mean(),show.mean()]\n",
    "\n",
    "my_labels = 'Shown','No show'\n",
    "plt.pie(Patients_Show,labels=my_labels,autopct='%1.0f%%')\n",
    "plt.title('Patients Show')\n",
    "plt.axis('equal')\n",
    "plt.show()"
   ]
  },
  {
   "cell_type": "markdown",
   "metadata": {},
   "source": [
    "There is 20 % of patients who showed in the appointment, while 80 % of\n",
    "the patients who didn't show in the appointment"
   ]
  },
  {
   "cell_type": "code",
   "execution_count": 53,
   "metadata": {},
   "outputs": [
    {
     "data": {
      "image/png": "[encoded data removed]",
      "text/plain": [
       "<matplotlib.figure.Figure at 0x7fa41a0e3be0>"
      ]
     },
     "metadata": {},
     "output_type": "display_data"
    }
   ],
   "source": [
    "#this is a porportion of most gender who showed to the appointment\n",
    "Gender_Show = df['Gender'].value_counts()\n",
    "\n",
    "my_labels = 'Female','Male'\n",
    "plt.pie(Gender_Show,labels=my_labels,autopct='%1.0f%%')\n",
    "plt.title('Gender Shown')\n",
    "plt.axis('equal')\n",
    "plt.show()"
   ]
  },
  {
   "cell_type": "markdown",
   "metadata": {},
   "source": [
    "There is 65 % of patients who showed in the appointment are females, while 35 % of the patients who show in the appointment are males \n",
    "\n",
    "Which means that females are more showing than males in the appointment"
   ]
  },
  {
   "cell_type": "markdown",
   "metadata": {},
   "source": [
    "### Research question3(Does it matter to know if the patient show to the appointment by receiving his SMS or not?)"
   ]
  },
  {
   "cell_type": "code",
   "execution_count": 54,
   "metadata": {
    "scrolled": false
   },
   "outputs": [
    {
     "ename": "TypeError",
     "evalue": "__init__() got an unexpected keyword argument 'max_rows'",
     "output_type": "error",
     "traceback": [
      "\u001b[0;31m---------------------------------------------------------------------------\u001b[0m",
      "\u001b[0;31mTypeError\u001b[0m                                 Traceback (most recent call last)",
      "\u001b[0;32m/opt/conda/lib/python3.6/site-packages/IPython/core/formatters.py\u001b[0m in \u001b[0;36m__call__\u001b[0;34m(self, obj)\u001b[0m\n\u001b[1;32m    343\u001b[0m             \u001b[0mmethod\u001b[0m \u001b[0;34m=\u001b[0m \u001b[0mget_real_method\u001b[0m\u001b[0;34m(\u001b[0m\u001b[0mobj\u001b[0m\u001b[0;34m,\u001b[0m \u001b[0mself\u001b[0m\u001b[0;34m.\u001b[0m\u001b[0mprint_method\u001b[0m\u001b[0;34m)\u001b[0m\u001b[0;34m\u001b[0m\u001b[0m\n\u001b[1;32m    344\u001b[0m             \u001b[0;32mif\u001b[0m \u001b[0mmethod\u001b[0m \u001b[0;32mis\u001b[0m \u001b[0;32mnot\u001b[0m \u001b[0;32mNone\u001b[0m\u001b[0;34m:\u001b[0m\u001b[0;34m\u001b[0m\u001b[0m\n\u001b[0;32m--> 345\u001b[0;31m                 \u001b[0;32mreturn\u001b[0m \u001b[0mmethod\u001b[0m\u001b[0;34m(\u001b[0m\u001b[0;34m)\u001b[0m\u001b[0;34m\u001b[0m\u001b[0m\n\u001b[0m\u001b[1;32m    346\u001b[0m             \u001b[0;32mreturn\u001b[0m \u001b[0;32mNone\u001b[0m\u001b[0;34m\u001b[0m\u001b[0m\n\u001b[1;32m    347\u001b[0m         \u001b[0;32melse\u001b[0m\u001b[0;34m:\u001b[0m\u001b[0;34m\u001b[0m\u001b[0m\n",
      "\u001b[0;32m/opt/conda/lib/python3.6/site-packages/pandas/core/frame.py\u001b[0m in \u001b[0;36m_repr_html_\u001b[0;34m(self)\u001b[0m\n\u001b[1;32m    694\u001b[0m     \u001b[0;34m@\u001b[0m\u001b[0mSubstitution\u001b[0m\u001b[0;34m(\u001b[0m\u001b[0mshared_params\u001b[0m\u001b[0;34m=\u001b[0m\u001b[0mfmt\u001b[0m\u001b[0;34m.\u001b[0m\u001b[0mcommon_docstring\u001b[0m\u001b[0;34m,\u001b[0m \u001b[0mreturns\u001b[0m\u001b[0;34m=\u001b[0m\u001b[0mfmt\u001b[0m\u001b[0;34m.\u001b[0m\u001b[0mreturn_docstring\u001b[0m\u001b[0;34m)\u001b[0m\u001b[0;34m\u001b[0m\u001b[0m\n\u001b[1;32m    695\u001b[0m     def to_string(\n\u001b[0;32m--> 696\u001b[0;31m         \u001b[0mself\u001b[0m\u001b[0;34m,\u001b[0m\u001b[0;34m\u001b[0m\u001b[0m\n\u001b[0m\u001b[1;32m    697\u001b[0m         \u001b[0mbuf\u001b[0m\u001b[0;34m=\u001b[0m\u001b[0;32mNone\u001b[0m\u001b[0;34m,\u001b[0m\u001b[0;34m\u001b[0m\u001b[0m\n\u001b[1;32m    698\u001b[0m         \u001b[0mcolumns\u001b[0m\u001b[0;34m=\u001b[0m\u001b[0;32mNone\u001b[0m\u001b[0;34m,\u001b[0m\u001b[0;34m\u001b[0m\u001b[0m\n",
      "\u001b[0;32m/opt/conda/lib/python3.6/site-packages/pandas/core/frame.py\u001b[0m in \u001b[0;36mto_html\u001b[0;34m(self, buf, columns, col_space, header, index, na_rep, formatters, float_format, sparsify, index_names, justify, bold_rows, classes, escape, max_rows, max_cols, show_dimensions, notebook, decimal, border, table_id)\u001b[0m\n\u001b[1;32m   2035\u001b[0m             \u001b[0mDefault\u001b[0m \u001b[0;32mis\u001b[0m \u001b[0mlatin\u001b[0m\u001b[0;34m-\u001b[0m\u001b[0;36m1.\u001b[0m \u001b[0mUnicode\u001b[0m \u001b[0;32mis\u001b[0m \u001b[0;32mnot\u001b[0m \u001b[0msupported\u001b[0m\u001b[0;34m.\u001b[0m\u001b[0;34m\u001b[0m\u001b[0m\n\u001b[1;32m   2036\u001b[0m         \u001b[0mbyteorder\u001b[0m \u001b[0;34m:\u001b[0m \u001b[0mstr\u001b[0m\u001b[0;34m\u001b[0m\u001b[0m\n\u001b[0;32m-> 2037\u001b[0;31m             \u001b[0mCan\u001b[0m \u001b[0mbe\u001b[0m \u001b[0;34m\">\"\u001b[0m\u001b[0;34m,\u001b[0m \u001b[0;34m\"<\"\u001b[0m\u001b[0;34m,\u001b[0m \u001b[0;34m\"little\"\u001b[0m\u001b[0;34m,\u001b[0m \u001b[0;32mor\u001b[0m \u001b[0;34m\"big\"\u001b[0m\u001b[0;34m.\u001b[0m \u001b[0mdefault\u001b[0m \u001b[0;32mis\u001b[0m\u001b[0;31m \u001b[0m\u001b[0;31m`\u001b[0m\u001b[0msys\u001b[0m\u001b[0;34m.\u001b[0m\u001b[0mbyteorder\u001b[0m\u001b[0;31m`\u001b[0m\u001b[0;34m.\u001b[0m\u001b[0;34m\u001b[0m\u001b[0m\n\u001b[0m\u001b[1;32m   2038\u001b[0m         \u001b[0mtime_stamp\u001b[0m \u001b[0;34m:\u001b[0m \u001b[0mdatetime\u001b[0m\u001b[0;34m\u001b[0m\u001b[0m\n\u001b[1;32m   2039\u001b[0m             \u001b[0mA\u001b[0m \u001b[0mdatetime\u001b[0m \u001b[0mto\u001b[0m \u001b[0muse\u001b[0m \u001b[0;32mas\u001b[0m \u001b[0mfile\u001b[0m \u001b[0mcreation\u001b[0m \u001b[0mdate\u001b[0m\u001b[0;34m.\u001b[0m  \u001b[0mDefault\u001b[0m \u001b[0;32mis\u001b[0m \u001b[0mthe\u001b[0m \u001b[0mcurrent\u001b[0m\u001b[0;34m\u001b[0m\u001b[0m\n",
      "\u001b[0;32m/opt/conda/lib/python3.6/site-packages/pandas/io/formats/format.py\u001b[0m in \u001b[0;36mto_html\u001b[0;34m(self, classes, notebook, border)\u001b[0m\n\u001b[1;32m    751\u001b[0m         \u001b[0;32melse\u001b[0m\u001b[0;34m:\u001b[0m\u001b[0;34m\u001b[0m\u001b[0m\n\u001b[1;32m    752\u001b[0m             \u001b[0mnrows\u001b[0m \u001b[0;34m=\u001b[0m \u001b[0mlen\u001b[0m\u001b[0;34m(\u001b[0m\u001b[0mself\u001b[0m\u001b[0;34m.\u001b[0m\u001b[0mframe\u001b[0m\u001b[0;34m)\u001b[0m\u001b[0;34m\u001b[0m\u001b[0m\n\u001b[0;32m--> 753\u001b[0;31m \u001b[0;34m\u001b[0m\u001b[0m\n\u001b[0m\u001b[1;32m    754\u001b[0m         \u001b[0mstr_lst\u001b[0m \u001b[0;34m=\u001b[0m \u001b[0;34m[\u001b[0m\u001b[0;34m]\u001b[0m\u001b[0;34m\u001b[0m\u001b[0m\n\u001b[1;32m    755\u001b[0m         \u001b[0mst\u001b[0m \u001b[0;34m=\u001b[0m \u001b[0;36m0\u001b[0m\u001b[0;34m\u001b[0m\u001b[0m\n",
      "\u001b[0;31mTypeError\u001b[0m: __init__() got an unexpected keyword argument 'max_rows'"
     ]
    },
    {
     "data": {
      "text/plain": [
       "            Patient_ID Gender         Scheduled_Day       Appointment_Day  \\\n",
       "11       7542951368435      M  2016-04-26T08:44:12Z  2016-04-29T00:00:00Z   \n",
       "15         99948393975      F  2016-04-26T08:47:27Z  2016-04-29T00:00:00Z   \n",
       "18      17135378245248      F  2016-04-26T10:54:18Z  2016-04-29T00:00:00Z   \n",
       "22     863229818887631      M  2016-04-25T13:29:16Z  2016-04-29T00:00:00Z   \n",
       "25       5819369978796      M  2016-04-26T15:04:17Z  2016-04-29T00:00:00Z   \n",
       "33       7653516999712      F  2016-04-25T15:01:04Z  2016-04-29T00:00:00Z   \n",
       "38       5873315843778      M  2016-04-20T15:54:18Z  2016-04-29T00:00:00Z   \n",
       "46        137943696338      M  2016-04-25T12:44:36Z  2016-04-29T00:00:00Z   \n",
       "48       8545415176986      F  2016-04-26T07:19:49Z  2016-04-29T00:00:00Z   \n",
       "49      92235587471561      F  2016-03-31T17:11:17Z  2016-04-29T00:00:00Z   \n",
       "50     182717227234941      F  2016-03-31T17:12:45Z  2016-04-29T00:00:00Z   \n",
       "51      46946985511333      F  2016-03-31T17:05:31Z  2016-04-29T00:00:00Z   \n",
       "52     798756986275976      F  2016-03-31T17:06:17Z  2016-04-29T00:00:00Z   \n",
       "56     475118896369823      M  2016-04-19T09:47:43Z  2016-04-29T00:00:00Z   \n",
       "62      36477615234971      F  2016-04-25T10:01:13Z  2016-04-29T00:00:00Z   \n",
       "64     188517384712787      M  2016-04-25T13:28:21Z  2016-04-29T00:00:00Z   \n",
       "68       5434175738686      F  2016-04-06T18:00:29Z  2016-04-29T00:00:00Z   \n",
       "69        793821379148      F  2016-04-06T18:00:51Z  2016-04-29T00:00:00Z   \n",
       "71       1846317738622      F  2016-04-06T18:12:55Z  2016-04-29T00:00:00Z   \n",
       "73      45421316129453      F  2016-04-06T18:12:38Z  2016-04-29T00:00:00Z   \n",
       "74       9672968175572      F  2016-04-18T17:29:12Z  2016-04-29T00:00:00Z   \n",
       "78        625926531749      M  2016-04-18T17:52:49Z  2016-04-29T00:00:00Z   \n",
       "79      99128824246583      M  2016-04-18T17:53:25Z  2016-04-29T00:00:00Z   \n",
       "80       1486714718477      M  2016-04-18T18:03:12Z  2016-04-29T00:00:00Z   \n",
       "81      19767951968224      F  2016-04-18T18:06:35Z  2016-04-29T00:00:00Z   \n",
       "86       3376224477447      M  2016-04-18T12:31:34Z  2016-04-29T00:00:00Z   \n",
       "90     878252996786747      M  2016-04-18T12:33:05Z  2016-04-29T00:00:00Z   \n",
       "91       2294295126913      F  2016-04-19T07:51:31Z  2016-04-29T00:00:00Z   \n",
       "96      79376248773989      M  2016-04-26T14:28:39Z  2016-04-29T00:00:00Z   \n",
       "97       5253342488842      F  2016-04-11T09:00:00Z  2016-04-29T00:00:00Z   \n",
       "...                ...    ...                   ...                   ...   \n",
       "110445  62721147981868      M  2016-05-11T10:54:44Z  2016-06-06T00:00:00Z   \n",
       "110446 866121327363158      F  2016-05-30T15:38:46Z  2016-06-06T00:00:00Z   \n",
       "110447  43247548219715      F  2016-06-01T07:58:45Z  2016-06-06T00:00:00Z   \n",
       "110448 262918365834899      F  2016-06-01T07:56:41Z  2016-06-06T00:00:00Z   \n",
       "110449 291145987362399      F  2016-05-31T08:19:23Z  2016-06-06T00:00:00Z   \n",
       "110450   2586716742262      M  2016-05-30T14:23:10Z  2016-06-06T00:00:00Z   \n",
       "110451  36818718444782      F  2016-06-01T14:45:45Z  2016-06-06T00:00:00Z   \n",
       "110452 633883673279982      F  2016-05-16T11:00:12Z  2016-06-06T00:00:00Z   \n",
       "110461   3346244796486      F  2016-04-27T10:29:36Z  2016-06-03T00:00:00Z   \n",
       "110463   8567868434363      F  2016-04-27T09:24:46Z  2016-06-03T00:00:00Z   \n",
       "110466    822295998972      F  2016-06-03T15:06:15Z  2016-06-07T00:00:00Z   \n",
       "110468    322747477995      F  2016-06-02T08:49:21Z  2016-06-07T00:00:00Z   \n",
       "110469 832256398961987      F  2016-05-04T07:35:31Z  2016-06-07T00:00:00Z   \n",
       "110470   4125932768366      F  2016-05-12T15:12:01Z  2016-06-02T00:00:00Z   \n",
       "110476   9278752487294      F  2016-05-10T08:25:25Z  2016-06-06T00:00:00Z   \n",
       "110477  27984936871939      F  2016-05-09T09:24:09Z  2016-06-06T00:00:00Z   \n",
       "110478   5478497292889      F  2016-05-09T07:11:08Z  2016-06-06T00:00:00Z   \n",
       "110479   4455243979994      F  2016-04-29T07:45:43Z  2016-06-06T00:00:00Z   \n",
       "110480    349293493115      F  2016-04-20T10:33:54Z  2016-06-06T00:00:00Z   \n",
       "110481    438363374339      F  2016-05-11T10:08:44Z  2016-06-06T00:00:00Z   \n",
       "110482 594422525164283      F  2016-04-29T08:45:44Z  2016-06-06T00:00:00Z   \n",
       "110518  72633149253362      F  2016-04-27T15:15:06Z  2016-06-07T00:00:00Z   \n",
       "110519  65423877893936      F  2016-04-27T15:23:14Z  2016-06-07T00:00:00Z   \n",
       "110520 996997666245785      F  2016-05-03T07:51:47Z  2016-06-07T00:00:00Z   \n",
       "110521  36355337746436      F  2016-05-03T08:23:40Z  2016-06-07T00:00:00Z   \n",
       "110522   2572134369293      F  2016-05-03T09:15:35Z  2016-06-07T00:00:00Z   \n",
       "110523   3596266328735      F  2016-05-03T07:27:33Z  2016-06-07T00:00:00Z   \n",
       "110524  15576631729893      F  2016-04-27T16:03:52Z  2016-06-07T00:00:00Z   \n",
       "110525  92134931435557      F  2016-04-27T15:09:23Z  2016-06-07T00:00:00Z   \n",
       "110526 377511518121127      F  2016-04-27T13:30:56Z  2016-06-07T00:00:00Z   \n",
       "\n",
       "        Age        Neighbourhood  Scholarship  Hypertension  Diabetes  \\\n",
       "11       29       NOVA PALESTINA            0             0         0   \n",
       "15       15       NOVA PALESTINA            0             0         0   \n",
       "18       30       NOVA PALESTINA            1             0         0   \n",
       "22       13            CONQUISTA            0             0         0   \n",
       "25       46            CONQUISTA            0             1         0   \n",
       "33       38        SÃO CRISTÓVÃO            1             0         0   \n",
       "38       85        SÃO CRISTÓVÃO            0             1         0   \n",
       "46       58        SÃO CRISTÓVÃO            0             1         0   \n",
       "48       58        SÃO CRISTÓVÃO            0             0         0   \n",
       "49       27       GRANDE VITÓRIA            0             0         0   \n",
       "50       19       GRANDE VITÓRIA            0             0         0   \n",
       "51       23       GRANDE VITÓRIA            1             0         0   \n",
       "52       23       GRANDE VITÓRIA            1             0         0   \n",
       "56       12       NOVA PALESTINA            0             0         0   \n",
       "62        3            CONQUISTA            1             0         0   \n",
       "64        0    ILHA DAS CAIEIRAS            0             0         0   \n",
       "68       69      JARDIM DA PENHA            0             1         0   \n",
       "69       58          SANTO ANDRÉ            0             0         0   \n",
       "71       30               BONFIM            1             0         0   \n",
       "73       68            REPÚBLICA            0             1         1   \n",
       "74       64          MARIA ORTIZ            0             0         0   \n",
       "78       21          MARIA ORTIZ            0             0         0   \n",
       "79       67          MARIA ORTIZ            0             0         0   \n",
       "80       68               JABOUR            0             0         0   \n",
       "81       49               JABOUR            0             0         0   \n",
       "86       10  ILHA DE SANTA MARIA            0             0         0   \n",
       "90       11          JUCUTUQUARA            0             0         0   \n",
       "91       10               BONFIM            0             0         0   \n",
       "96        3               BONFIM            0             0         0   \n",
       "97       35               BONFIM            0             0         0   \n",
       "...     ...                  ...          ...           ...       ...   \n",
       "110445    6          RESISTÊNCIA            0             0         0   \n",
       "110446    8          RESISTÊNCIA            0             0         0   \n",
       "110447   14          RESISTÊNCIA            0             0         0   \n",
       "110448   40          RESISTÊNCIA            0             1         1   \n",
       "110449   12          RESISTÊNCIA            0             0         0   \n",
       "110450   49          RESISTÊNCIA            0             1         0   \n",
       "110451   34          RESISTÊNCIA            0             0         0   \n",
       "110452   39          RESISTÊNCIA            0             1         0   \n",
       "110461   13          RESISTÊNCIA            0             0         0   \n",
       "110463   20          RESISTÊNCIA            0             0         0   \n",
       "110466   19          RESISTÊNCIA            0             0         0   \n",
       "110468   76          RESISTÊNCIA            0             1         1   \n",
       "110469   51          RESISTÊNCIA            0             0         0   \n",
       "110470   26          RESISTÊNCIA            0             0         0   \n",
       "110476   80          RESISTÊNCIA            0             1         0   \n",
       "110477   67          RESISTÊNCIA            0             0         1   \n",
       "110478   27          RESISTÊNCIA            0             0         0   \n",
       "110479   34          RESISTÊNCIA            1             0         0   \n",
       "110480   51          RESISTÊNCIA            0             0         0   \n",
       "110481   28          RESISTÊNCIA            0             0         0   \n",
       "110482   43          RESISTÊNCIA            1             0         0   \n",
       "110518   50          MARIA ORTIZ            0             0         0   \n",
       "110519   22          MARIA ORTIZ            0             0         0   \n",
       "110520   42          MARIA ORTIZ            0             0         0   \n",
       "110521   53          MARIA ORTIZ            0             0         0   \n",
       "110522   56          MARIA ORTIZ            0             0         0   \n",
       "110523   51          MARIA ORTIZ            0             0         0   \n",
       "110524   21          MARIA ORTIZ            0             0         0   \n",
       "110525   38          MARIA ORTIZ            0             0         0   \n",
       "110526   54          MARIA ORTIZ            0             0         0   \n",
       "\n",
       "        Alcoholism  Handicap  SMS_received No_show  \n",
       "11               0         0             1     Yes  \n",
       "15               0         0             1      No  \n",
       "18               0         0             1      No  \n",
       "22               0         0             1     Yes  \n",
       "25               0         0             1      No  \n",
       "33               0         0             1      No  \n",
       "38               0         0             1      No  \n",
       "46               1         0             1      No  \n",
       "48               0         0             1     Yes  \n",
       "49               0         0             1     Yes  \n",
       "50               0         0             1     Yes  \n",
       "51               0         0             1     Yes  \n",
       "52               0         0             1     Yes  \n",
       "56               0         0             1     Yes  \n",
       "62               0         0             1      No  \n",
       "64               0         0             1      No  \n",
       "68               0         0             1      No  \n",
       "69               0         0             1      No  \n",
       "71               0         0             1      No  \n",
       "73               0         0             1      No  \n",
       "74               0         0             1      No  \n",
       "78               0         0             1      No  \n",
       "79               0         0             1     Yes  \n",
       "80               0         0             1      No  \n",
       "81               0         0             1      No  \n",
       "86               0         0             1      No  \n",
       "90               0         0             1     Yes  \n",
       "91               0         0             1      No  \n",
       "96               0         0             1      No  \n",
       "97               0         0             1      No  \n",
       "...            ...       ...           ...     ...  \n",
       "110445           0         0             1      No  \n",
       "110446           0         0             1      No  \n",
       "110447           0         0             1      No  \n",
       "110448           0         0             1      No  \n",
       "110449           0         0             1     Yes  \n",
       "110450           0         0             1      No  \n",
       "110451           0         0             1      No  \n",
       "110452           0         0             1      No  \n",
       "110461           0         0             1     Yes  \n",
       "110463           0         0             1      No  \n",
       "110466           0         0             1      No  \n",
       "110468           0         0             1      No  \n",
       "110469           0         0             1     Yes  \n",
       "110470           0         0             1     Yes  \n",
       "110476           0         0             1      No  \n",
       "110477           0         0             1      No  \n",
       "110478           0         0             1      No  \n",
       "110479           0         0             1     Yes  \n",
       "110480           0         0             1      No  \n",
       "110481           0         0             1      No  \n",
       "110482           0         0             1     Yes  \n",
       "110518           0         0             1      No  \n",
       "110519           0         0             1      No  \n",
       "110520           0         0             1      No  \n",
       "110521           0         0             1      No  \n",
       "110522           0         0             1      No  \n",
       "110523           0         0             1      No  \n",
       "110524           0         0             1      No  \n",
       "110525           0         0             1      No  \n",
       "110526           0         0             1      No  \n",
       "\n",
       "[35482 rows x 13 columns]"
      ]
     },
     "execution_count": 54,
     "metadata": {},
     "output_type": "execute_result"
    }
   ],
   "source": [
    "# assigning a variable that collects all the patients who received SMS\n",
    "Received_SMS = df[df['SMS_received']== 1]\n",
    "Received_SMS"
   ]
  },
  {
   "cell_type": "markdown",
   "metadata": {},
   "source": [
    "'Received_SMS' variable will represent the patients who received SMS for the appointment"
   ]
  },
  {
   "cell_type": "code",
   "execution_count": 55,
   "metadata": {},
   "outputs": [
    {
     "ename": "TypeError",
     "evalue": "__init__() got an unexpected keyword argument 'max_rows'",
     "output_type": "error",
     "traceback": [
      "\u001b[0;31m---------------------------------------------------------------------------\u001b[0m",
      "\u001b[0;31mTypeError\u001b[0m                                 Traceback (most recent call last)",
      "\u001b[0;32m/opt/conda/lib/python3.6/site-packages/IPython/core/formatters.py\u001b[0m in \u001b[0;36m__call__\u001b[0;34m(self, obj)\u001b[0m\n\u001b[1;32m    343\u001b[0m             \u001b[0mmethod\u001b[0m \u001b[0;34m=\u001b[0m \u001b[0mget_real_method\u001b[0m\u001b[0;34m(\u001b[0m\u001b[0mobj\u001b[0m\u001b[0;34m,\u001b[0m \u001b[0mself\u001b[0m\u001b[0;34m.\u001b[0m\u001b[0mprint_method\u001b[0m\u001b[0;34m)\u001b[0m\u001b[0;34m\u001b[0m\u001b[0m\n\u001b[1;32m    344\u001b[0m             \u001b[0;32mif\u001b[0m \u001b[0mmethod\u001b[0m \u001b[0;32mis\u001b[0m \u001b[0;32mnot\u001b[0m \u001b[0;32mNone\u001b[0m\u001b[0;34m:\u001b[0m\u001b[0;34m\u001b[0m\u001b[0m\n\u001b[0;32m--> 345\u001b[0;31m                 \u001b[0;32mreturn\u001b[0m \u001b[0mmethod\u001b[0m\u001b[0;34m(\u001b[0m\u001b[0;34m)\u001b[0m\u001b[0;34m\u001b[0m\u001b[0m\n\u001b[0m\u001b[1;32m    346\u001b[0m             \u001b[0;32mreturn\u001b[0m \u001b[0;32mNone\u001b[0m\u001b[0;34m\u001b[0m\u001b[0m\n\u001b[1;32m    347\u001b[0m         \u001b[0;32melse\u001b[0m\u001b[0;34m:\u001b[0m\u001b[0;34m\u001b[0m\u001b[0m\n",
      "\u001b[0;32m/opt/conda/lib/python3.6/site-packages/pandas/core/frame.py\u001b[0m in \u001b[0;36m_repr_html_\u001b[0;34m(self)\u001b[0m\n\u001b[1;32m    694\u001b[0m     \u001b[0;34m@\u001b[0m\u001b[0mSubstitution\u001b[0m\u001b[0;34m(\u001b[0m\u001b[0mshared_params\u001b[0m\u001b[0;34m=\u001b[0m\u001b[0mfmt\u001b[0m\u001b[0;34m.\u001b[0m\u001b[0mcommon_docstring\u001b[0m\u001b[0;34m,\u001b[0m \u001b[0mreturns\u001b[0m\u001b[0;34m=\u001b[0m\u001b[0mfmt\u001b[0m\u001b[0;34m.\u001b[0m\u001b[0mreturn_docstring\u001b[0m\u001b[0;34m)\u001b[0m\u001b[0;34m\u001b[0m\u001b[0m\n\u001b[1;32m    695\u001b[0m     def to_string(\n\u001b[0;32m--> 696\u001b[0;31m         \u001b[0mself\u001b[0m\u001b[0;34m,\u001b[0m\u001b[0;34m\u001b[0m\u001b[0m\n\u001b[0m\u001b[1;32m    697\u001b[0m         \u001b[0mbuf\u001b[0m\u001b[0;34m=\u001b[0m\u001b[0;32mNone\u001b[0m\u001b[0;34m,\u001b[0m\u001b[0;34m\u001b[0m\u001b[0m\n\u001b[1;32m    698\u001b[0m         \u001b[0mcolumns\u001b[0m\u001b[0;34m=\u001b[0m\u001b[0;32mNone\u001b[0m\u001b[0;34m,\u001b[0m\u001b[0;34m\u001b[0m\u001b[0m\n",
      "\u001b[0;32m/opt/conda/lib/python3.6/site-packages/pandas/core/frame.py\u001b[0m in \u001b[0;36mto_html\u001b[0;34m(self, buf, columns, col_space, header, index, na_rep, formatters, float_format, sparsify, index_names, justify, bold_rows, classes, escape, max_rows, max_cols, show_dimensions, notebook, decimal, border, table_id)\u001b[0m\n\u001b[1;32m   2035\u001b[0m             \u001b[0mDefault\u001b[0m \u001b[0;32mis\u001b[0m \u001b[0mlatin\u001b[0m\u001b[0;34m-\u001b[0m\u001b[0;36m1.\u001b[0m \u001b[0mUnicode\u001b[0m \u001b[0;32mis\u001b[0m \u001b[0;32mnot\u001b[0m \u001b[0msupported\u001b[0m\u001b[0;34m.\u001b[0m\u001b[0;34m\u001b[0m\u001b[0m\n\u001b[1;32m   2036\u001b[0m         \u001b[0mbyteorder\u001b[0m \u001b[0;34m:\u001b[0m \u001b[0mstr\u001b[0m\u001b[0;34m\u001b[0m\u001b[0m\n\u001b[0;32m-> 2037\u001b[0;31m             \u001b[0mCan\u001b[0m \u001b[0mbe\u001b[0m \u001b[0;34m\">\"\u001b[0m\u001b[0;34m,\u001b[0m \u001b[0;34m\"<\"\u001b[0m\u001b[0;34m,\u001b[0m \u001b[0;34m\"little\"\u001b[0m\u001b[0;34m,\u001b[0m \u001b[0;32mor\u001b[0m \u001b[0;34m\"big\"\u001b[0m\u001b[0;34m.\u001b[0m \u001b[0mdefault\u001b[0m \u001b[0;32mis\u001b[0m\u001b[0;31m \u001b[0m\u001b[0;31m`\u001b[0m\u001b[0msys\u001b[0m\u001b[0;34m.\u001b[0m\u001b[0mbyteorder\u001b[0m\u001b[0;31m`\u001b[0m\u001b[0;34m.\u001b[0m\u001b[0;34m\u001b[0m\u001b[0m\n\u001b[0m\u001b[1;32m   2038\u001b[0m         \u001b[0mtime_stamp\u001b[0m \u001b[0;34m:\u001b[0m \u001b[0mdatetime\u001b[0m\u001b[0;34m\u001b[0m\u001b[0m\n\u001b[1;32m   2039\u001b[0m             \u001b[0mA\u001b[0m \u001b[0mdatetime\u001b[0m \u001b[0mto\u001b[0m \u001b[0muse\u001b[0m \u001b[0;32mas\u001b[0m \u001b[0mfile\u001b[0m \u001b[0mcreation\u001b[0m \u001b[0mdate\u001b[0m\u001b[0;34m.\u001b[0m  \u001b[0mDefault\u001b[0m \u001b[0;32mis\u001b[0m \u001b[0mthe\u001b[0m \u001b[0mcurrent\u001b[0m\u001b[0;34m\u001b[0m\u001b[0m\n",
      "\u001b[0;32m/opt/conda/lib/python3.6/site-packages/pandas/io/formats/format.py\u001b[0m in \u001b[0;36mto_html\u001b[0;34m(self, classes, notebook, border)\u001b[0m\n\u001b[1;32m    751\u001b[0m         \u001b[0;32melse\u001b[0m\u001b[0;34m:\u001b[0m\u001b[0;34m\u001b[0m\u001b[0m\n\u001b[1;32m    752\u001b[0m             \u001b[0mnrows\u001b[0m \u001b[0;34m=\u001b[0m \u001b[0mlen\u001b[0m\u001b[0;34m(\u001b[0m\u001b[0mself\u001b[0m\u001b[0;34m.\u001b[0m\u001b[0mframe\u001b[0m\u001b[0;34m)\u001b[0m\u001b[0;34m\u001b[0m\u001b[0m\n\u001b[0;32m--> 753\u001b[0;31m \u001b[0;34m\u001b[0m\u001b[0m\n\u001b[0m\u001b[1;32m    754\u001b[0m         \u001b[0mstr_lst\u001b[0m \u001b[0;34m=\u001b[0m \u001b[0;34m[\u001b[0m\u001b[0;34m]\u001b[0m\u001b[0;34m\u001b[0m\u001b[0m\n\u001b[1;32m    755\u001b[0m         \u001b[0mst\u001b[0m \u001b[0;34m=\u001b[0m \u001b[0;36m0\u001b[0m\u001b[0;34m\u001b[0m\u001b[0m\n",
      "\u001b[0;31mTypeError\u001b[0m: __init__() got an unexpected keyword argument 'max_rows'"
     ]
    },
    {
     "data": {
      "text/plain": [
       "            Patient_ID Gender         Scheduled_Day       Appointment_Day  \\\n",
       "0       29872499824296      F  2016-04-29T18:38:08Z  2016-04-29T00:00:00Z   \n",
       "1      558997776694438      M  2016-04-29T16:08:27Z  2016-04-29T00:00:00Z   \n",
       "2        4262962299951      F  2016-04-29T16:19:04Z  2016-04-29T00:00:00Z   \n",
       "3         867951213174      F  2016-04-29T17:29:31Z  2016-04-29T00:00:00Z   \n",
       "4        8841186448183      F  2016-04-29T16:07:23Z  2016-04-29T00:00:00Z   \n",
       "5       95985133231274      F  2016-04-27T08:36:51Z  2016-04-29T00:00:00Z   \n",
       "6      733688164476661      F  2016-04-27T15:05:12Z  2016-04-29T00:00:00Z   \n",
       "7        3449833394123      F  2016-04-27T15:39:58Z  2016-04-29T00:00:00Z   \n",
       "8       56394729949972      F  2016-04-29T08:02:16Z  2016-04-29T00:00:00Z   \n",
       "9       78124564369297      F  2016-04-27T12:48:25Z  2016-04-29T00:00:00Z   \n",
       "10     734536231958495      F  2016-04-27T14:58:11Z  2016-04-29T00:00:00Z   \n",
       "12     566654781423437      F  2016-04-28T11:33:51Z  2016-04-29T00:00:00Z   \n",
       "13     911394617215919      M  2016-04-28T14:52:07Z  2016-04-29T00:00:00Z   \n",
       "14      99884723334928      F  2016-04-28T10:06:24Z  2016-04-29T00:00:00Z   \n",
       "16      84574392942817      M  2016-04-28T08:51:47Z  2016-04-29T00:00:00Z   \n",
       "17      14794966191172      F  2016-04-28T09:28:57Z  2016-04-29T00:00:00Z   \n",
       "19       7223289184215      F  2016-04-29T10:43:14Z  2016-04-29T00:00:00Z   \n",
       "20     622257462899397      F  2016-04-27T07:51:14Z  2016-04-29T00:00:00Z   \n",
       "21      12154843752835      F  2016-04-27T10:50:45Z  2016-04-29T00:00:00Z   \n",
       "23     213753979425692      F  2016-04-28T10:27:05Z  2016-04-29T00:00:00Z   \n",
       "24       8734857996885      F  2016-04-29T14:19:19Z  2016-04-29T00:00:00Z   \n",
       "26         25787851512      F  2016-04-29T14:19:42Z  2016-04-29T00:00:00Z   \n",
       "27      12154843752835      F  2016-04-27T10:51:45Z  2016-04-29T00:00:00Z   \n",
       "28       5926171692527      M  2016-04-29T15:48:02Z  2016-04-29T00:00:00Z   \n",
       "29       1225776163665      F  2016-04-29T15:16:29Z  2016-04-29T00:00:00Z   \n",
       "30        342815551642      F  2016-04-27T10:24:52Z  2016-04-29T00:00:00Z   \n",
       "31        311284853849      M  2016-04-27T12:07:14Z  2016-04-29T00:00:00Z   \n",
       "32      52883562769472      M  2016-04-29T07:30:27Z  2016-04-29T00:00:00Z   \n",
       "34      19999756532994      F  2016-04-29T07:34:30Z  2016-04-29T00:00:00Z   \n",
       "35      78162635161611      M  2016-04-29T07:34:42Z  2016-04-29T00:00:00Z   \n",
       "...                ...    ...                   ...                   ...   \n",
       "110488 793589177751417      M  2016-06-01T14:47:12Z  2016-06-01T00:00:00Z   \n",
       "110489 787436994766271      F  2016-06-08T13:54:16Z  2016-06-08T00:00:00Z   \n",
       "110490 325262361689699      M  2016-06-08T10:55:45Z  2016-06-08T00:00:00Z   \n",
       "110491    756562242135      F  2016-06-08T10:52:27Z  2016-06-08T00:00:00Z   \n",
       "110492 645634214296344      M  2016-06-08T08:50:19Z  2016-06-08T00:00:00Z   \n",
       "110493    171213473862      M  2016-06-08T11:06:40Z  2016-06-08T00:00:00Z   \n",
       "110494 289581673196518      F  2016-06-06T17:44:14Z  2016-06-08T00:00:00Z   \n",
       "110495   7499488949126      M  2016-06-01T13:49:47Z  2016-06-01T00:00:00Z   \n",
       "110496  85442954737999      F  2016-06-06T17:35:38Z  2016-06-08T00:00:00Z   \n",
       "110497 793589177751417      M  2016-06-01T09:46:33Z  2016-06-01T00:00:00Z   \n",
       "110498  94336536145654      F  2016-06-08T10:21:14Z  2016-06-08T00:00:00Z   \n",
       "110499 821969177626116      F  2016-06-01T09:42:56Z  2016-06-01T00:00:00Z   \n",
       "110500 443438443334614      F  2016-06-08T09:35:13Z  2016-06-08T00:00:00Z   \n",
       "110501    454425189389      M  2016-06-01T10:19:12Z  2016-06-01T00:00:00Z   \n",
       "110502 731622885364982      F  2016-06-08T10:50:42Z  2016-06-08T00:00:00Z   \n",
       "110503  23621816822757      F  2016-06-01T13:00:36Z  2016-06-01T00:00:00Z   \n",
       "110504   9947982555566      F  2016-06-08T11:06:21Z  2016-06-08T00:00:00Z   \n",
       "110505  56673438855979      F  2016-06-01T10:45:50Z  2016-06-01T00:00:00Z   \n",
       "110506    897388334326      M  2016-06-01T11:09:20Z  2016-06-01T00:00:00Z   \n",
       "110507 476946211846992      F  2016-06-08T09:04:18Z  2016-06-08T00:00:00Z   \n",
       "110508  94336536145654      F  2016-06-01T09:41:00Z  2016-06-01T00:00:00Z   \n",
       "110509 495296829375937      M  2016-06-08T08:50:51Z  2016-06-08T00:00:00Z   \n",
       "110510  23621816822757      F  2016-06-01T09:35:48Z  2016-06-01T00:00:00Z   \n",
       "110511    823599626588      F  2016-06-08T08:50:20Z  2016-06-08T00:00:00Z   \n",
       "110512  98762456447375      F  2016-06-08T08:20:01Z  2016-06-08T00:00:00Z   \n",
       "110513  86747784995281      M  2016-06-08T07:52:55Z  2016-06-08T00:00:00Z   \n",
       "110514   2695685177138      F  2016-06-08T08:35:31Z  2016-06-08T00:00:00Z   \n",
       "110515 645634214296344      M  2016-06-06T15:58:05Z  2016-06-08T00:00:00Z   \n",
       "110516  69237724436761      F  2016-06-07T07:45:16Z  2016-06-08T00:00:00Z   \n",
       "110517   5574942418928      F  2016-06-07T07:38:34Z  2016-06-07T00:00:00Z   \n",
       "\n",
       "        Age      Neighbourhood  Scholarship  Hypertension  Diabetes  \\\n",
       "0        62    JARDIM DA PENHA            0             1         0   \n",
       "1        56    JARDIM DA PENHA            0             0         0   \n",
       "2        62      MATA DA PRAIA            0             0         0   \n",
       "3         8  PONTAL DE CAMBURI            0             0         0   \n",
       "4        56    JARDIM DA PENHA            0             1         1   \n",
       "5        76          REPÚBLICA            0             1         0   \n",
       "6        23         GOIABEIRAS            0             0         0   \n",
       "7        39         GOIABEIRAS            0             0         0   \n",
       "8        21         ANDORINHAS            0             0         0   \n",
       "9        19          CONQUISTA            0             0         0   \n",
       "10       30     NOVA PALESTINA            0             0         0   \n",
       "12       22     NOVA PALESTINA            1             0         0   \n",
       "13       28     NOVA PALESTINA            0             0         0   \n",
       "14       54     NOVA PALESTINA            0             0         0   \n",
       "16       50     NOVA PALESTINA            0             0         0   \n",
       "17       40          CONQUISTA            1             0         0   \n",
       "19       46           DA PENHA            0             0         0   \n",
       "20       30     NOVA PALESTINA            0             0         0   \n",
       "21        4          CONQUISTA            0             0         0   \n",
       "23       46          CONQUISTA            0             0         0   \n",
       "24       65         TABUAZEIRO            0             0         0   \n",
       "26       45     BENTO FERREIRA            0             1         0   \n",
       "27        4          CONQUISTA            0             0         0   \n",
       "28       51          SÃO PEDRO            0             0         0   \n",
       "29       32       SANTA MARTHA            0             0         0   \n",
       "30       46     NOVA PALESTINA            0             0         0   \n",
       "31       12     NOVA PALESTINA            1             0         0   \n",
       "32       61      SÃO CRISTÓVÃO            0             1         0   \n",
       "34       79      SÃO CRISTÓVÃO            0             1         0   \n",
       "35       18      SÃO CRISTÓVÃO            0             0         0   \n",
       "...     ...                ...          ...           ...       ...   \n",
       "110488   76        MARIA ORTIZ            0             0         0   \n",
       "110489   22        MARIA ORTIZ            0             0         0   \n",
       "110490   51        MARIA ORTIZ            0             0         0   \n",
       "110491   53        MARIA ORTIZ            0             0         0   \n",
       "110492   33        MARIA ORTIZ            0             1         0   \n",
       "110493   21        MARIA ORTIZ            0             0         0   \n",
       "110494   38        MARIA ORTIZ            0             0         0   \n",
       "110495   40        MARIA ORTIZ            0             0         0   \n",
       "110496   37        MARIA ORTIZ            0             1         0   \n",
       "110497   76        MARIA ORTIZ            0             0         0   \n",
       "110498   59        MARIA ORTIZ            0             0         0   \n",
       "110499   66        MARIA ORTIZ            0             1         1   \n",
       "110500   59        MARIA ORTIZ            0             0         0   \n",
       "110501   44        MARIA ORTIZ            0             0         0   \n",
       "110502   22         GOIABEIRAS            0             0         0   \n",
       "110503   64       SOLON BORGES            0             0         0   \n",
       "110504    4        MARIA ORTIZ            0             0         0   \n",
       "110505   55        MARIA ORTIZ            0             0         0   \n",
       "110506    5        MARIA ORTIZ            0             0         0   \n",
       "110507    0        MARIA ORTIZ            0             0         0   \n",
       "110508   59        MARIA ORTIZ            0             0         0   \n",
       "110509   33        MARIA ORTIZ            0             0         0   \n",
       "110510   64       SOLON BORGES            0             0         0   \n",
       "110511   14        MARIA ORTIZ            0             0         0   \n",
       "110512   41        MARIA ORTIZ            0             0         0   \n",
       "110513    2    ANTÔNIO HONÓRIO            0             0         0   \n",
       "110514   58        MARIA ORTIZ            0             0         0   \n",
       "110515   33        MARIA ORTIZ            0             1         0   \n",
       "110516   37        MARIA ORTIZ            0             0         0   \n",
       "110517   19        MARIA ORTIZ            0             0         0   \n",
       "\n",
       "        Alcoholism  Handicap  SMS_received No_show  \n",
       "0                0         0             0      No  \n",
       "1                0         0             0      No  \n",
       "2                0         0             0      No  \n",
       "3                0         0             0      No  \n",
       "4                0         0             0      No  \n",
       "5                0         0             0      No  \n",
       "6                0         0             0     Yes  \n",
       "7                0         0             0     Yes  \n",
       "8                0         0             0      No  \n",
       "9                0         0             0      No  \n",
       "10               0         0             0      No  \n",
       "12               0         0             0      No  \n",
       "13               0         0             0      No  \n",
       "14               0         0             0      No  \n",
       "16               0         0             0      No  \n",
       "17               0         0             0     Yes  \n",
       "19               0         0             0      No  \n",
       "20               0         0             0     Yes  \n",
       "21               0         0             0     Yes  \n",
       "23               0         0             0      No  \n",
       "24               0         0             0      No  \n",
       "26               0         0             0      No  \n",
       "27               0         0             0      No  \n",
       "28               0         0             0      No  \n",
       "29               0         0             0      No  \n",
       "30               0         0             0      No  \n",
       "31               0         0             0     Yes  \n",
       "32               0         0             0      No  \n",
       "34               0         0             0      No  \n",
       "35               0         0             0      No  \n",
       "...            ...       ...           ...     ...  \n",
       "110488           0         0             0      No  \n",
       "110489           0         0             0      No  \n",
       "110490           0         0             0      No  \n",
       "110491           0         0             0      No  \n",
       "110492           0         0             0     Yes  \n",
       "110493           0         0             0      No  \n",
       "110494           0         0             0      No  \n",
       "110495           0         0             0      No  \n",
       "110496           0         0             0     Yes  \n",
       "110497           0         0             0      No  \n",
       "110498           0         0             0      No  \n",
       "110499           0         0             0      No  \n",
       "110500           0         0             0      No  \n",
       "110501           0         0             0      No  \n",
       "110502           0         0             0      No  \n",
       "110503           0         0             0      No  \n",
       "110504           0         0             0      No  \n",
       "110505           0         0             0      No  \n",
       "110506           0         0             0      No  \n",
       "110507           0         0             0      No  \n",
       "110508           0         0             0      No  \n",
       "110509           0         0             0      No  \n",
       "110510           0         0             0      No  \n",
       "110511           0         0             0      No  \n",
       "110512           0         0             0      No  \n",
       "110513           0         0             0      No  \n",
       "110514           0         0             0      No  \n",
       "110515           0         0             0     Yes  \n",
       "110516           0         0             0     Yes  \n",
       "110517           0         0             0      No  \n",
       "\n",
       "[75045 rows x 13 columns]"
      ]
     },
     "execution_count": 55,
     "metadata": {},
     "output_type": "execute_result"
    }
   ],
   "source": [
    "# assigning a variable that collects all the patients who didn't received SMS\n",
    "No_Received_SMS = df[df['SMS_received']== 0]\n",
    "No_Received_SMS"
   ]
  },
  {
   "cell_type": "markdown",
   "metadata": {},
   "source": [
    "'No_Received_SMS' variable will represent the patients who didn't receive SMS for the appointment"
   ]
  },
  {
   "cell_type": "code",
   "execution_count": 56,
   "metadata": {},
   "outputs": [
    {
     "data": {
      "image/png": "[encoded data removed]",
      "text/plain": [
       "<matplotlib.figure.Figure at 0x7fa41a412a90>"
      ]
     },
     "metadata": {},
     "output_type": "display_data"
    }
   ],
   "source": [
    "# this is a proportion of the patients who received SMS to not received SMS\n",
    "Patient_Received_SMS = df['SMS_received'].value_counts()\n",
    "\n",
    "my_labels = 'Not Received SMS','Received SMS'\n",
    "plt.pie(Patient_Received_SMS,labels=my_labels,autopct='%1.0f%%')\n",
    "plt.title('Received SMS')\n",
    "plt.axis('equal')\n",
    "plt.show()"
   ]
  },
  {
   "cell_type": "markdown",
   "metadata": {},
   "source": [
    "There is 68 % of patients who didn't receive SMS, while 32 % of the\n",
    "patients who received SMS"
   ]
  },
  {
   "cell_type": "code",
   "execution_count": 57,
   "metadata": {},
   "outputs": [
    {
     "data": {
      "image/png": "[encoded data removed]",
      "text/plain": [
       "<matplotlib.figure.Figure at 0x7fa420044c18>"
      ]
     },
     "metadata": {},
     "output_type": "display_data"
    }
   ],
   "source": [
    "# this is a proportion of the patients who showed with received SMS to showed without received SMS\n",
    "show_Received = show.groupby(df.SMS_received).sum()\n",
    "\n",
    "my_labels = 'shown without Received SMS','shown with Received SMS'\n",
    "plt.pie(show_Received,labels=my_labels,autopct='%1.0f%%')\n",
    "plt.title('Patient Shown with received SMS')\n",
    "plt.axis('equal')\n",
    "plt.show()"
   ]
  },
  {
   "cell_type": "markdown",
   "metadata": {},
   "source": [
    "There is 71 % of patients who show in the appointment without receiving\n",
    "SMS, while 29 % of the patients show in the appointment with receiving\n",
    "SMS\n",
    "\n",
    "Which is weird"
   ]
  },
  {
   "cell_type": "markdown",
   "metadata": {},
   "source": [
    "<a id='conclusions'></a>\n",
    "## Conclusions\n",
    "\n",
    "> **Tip**: Finally, summarize your findings and the results that have been performed in relation to the question(s) provided at the beginning of the analysis. Summarize the results accurately, and point out where additional research can be done or where additional information could be useful.\n",
    "\n",
    "> **Tip**: Make sure that you are clear with regards to the limitations of your exploration. You should have at least 1 limitation explained clearly. \n",
    "\n",
    "> **Tip**: If you haven't done any statistical tests, do not imply any statistical conclusions. And make sure you avoid implying causation from correlation!\n",
    "\n",
    "> **Tip**: Once you are satisfied with your work here, check over your report to make sure that it is satisfies all the areas of the rubric (found on the project submission page at the end of the lesson). You should also probably remove all of the \"Tips\" like this one so that the presentation is as polished as possible.\n",
    "\n",
    "It is concluded that:\n",
    "\n",
    "-   The neighbourhood is strongly connected to the patient's attending\n",
    "    to the medical appointment\n",
    "-   The most age of a patient show in the appointment is from 0-10 years\n",
    "    old, then next from 35-70 years old\n",
    "-   The females showing more than males in the appointment, which means\n",
    "    that the females are more prone to diseases than males or the\n",
    "    females care about their health more than males\n",
    "-   It is strange, but most patients show in the appointment without\n",
    "    receiving SMS\n",
    "\n",
    "#### Limitations:<a href=\"#Limitations:\" class=\"anchor-link\">¶</a>\n",
    "\n",
    "There is no correlation between the patient's showing or not showing in\n",
    "the appointment with other characteristics like disability, being\n",
    "enrolled in the brasilian welfare program or diseases\n",
    "\n",
    "## Submitting your Project \n",
    "\n",
    "> **Tip**: Before you submit your project, you need to create a .html or .pdf version of this notebook in the workspace here. To do that, run the code cell below. If it worked correctly, you should get a return code of 0, and you should see the generated .html file in the workspace directory (click on the orange Jupyter icon in the upper left).\n",
    "\n",
    "> **Tip**: Alternatively, you can download this report as .html via the **File** > **Download as** submenu, and then manually upload it into the workspace directory by clicking on the orange Jupyter icon in the upper left, then using the Upload button.\n",
    "\n",
    "> **Tip**: Once you've done this, you can submit your project by clicking on the \"Submit Project\" button in the lower right here. This will create and submit a zip file with this .ipynb doc and the .html or .pdf version you created. Congratulations!"
   ]
  },
  {
   "cell_type": "code",
   "execution_count": 58,
   "metadata": {},
   "outputs": [
    {
     "data": {
      "text/plain": [
       "0"
      ]
     },
     "execution_count": 58,
     "metadata": {},
     "output_type": "execute_result"
    }
   ],
   "source": [
    "from subprocess import call\n",
    "call(['python', '-m', 'nbconvert', 'Investigate_a_Dataset.ipynb'])"
   ]
  },
  {
   "cell_type": "code",
   "execution_count": null,
   "metadata": {},
   "outputs": [],
   "source": []
  }
 ],
 "metadata": {
  "kernelspec": {
   "display_name": "Python 3",
   "language": "python",
   "name": "python3"
  },
  "language_info": {
   "codemirror_mode": {
    "name": "ipython",
    "version": 3
   },
   "file_extension": ".py",
   "mimetype": "text/x-python",
   "name": "python",
   "nbconvert_exporter": "python",
   "pygments_lexer": "ipython3",
   "version": "3.6.3"
  }
 },
 "nbformat": 4,
 "nbformat_minor": 2
}
